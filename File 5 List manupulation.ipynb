{
 "cells": [
  {
   "cell_type": "code",
   "execution_count": 4,
   "id": "8bee68c8",
   "metadata": {},
   "outputs": [
    {
     "data": {
      "text/plain": [
       "False"
      ]
     },
     "execution_count": 4,
     "metadata": {},
     "output_type": "execute_result"
    }
   ],
   "source": [
    "a = [1 , True , 243 , \"string\", 5+6j,[\"daga\",45]]\n",
    "45 in a                         #although there but still false because it is not a individual part of a [\"daga\",45] this\n",
    "                                #entire is one element."
   ]
  },
  {
   "cell_type": "code",
   "execution_count": 5,
   "id": "af3ea34a",
   "metadata": {},
   "outputs": [
    {
     "data": {
      "text/plain": [
       "True"
      ]
     },
     "execution_count": 5,
     "metadata": {},
     "output_type": "execute_result"
    }
   ],
   "source": [
    "243 in a"
   ]
  },
  {
   "cell_type": "code",
   "execution_count": 11,
   "id": "7a7cb4fa",
   "metadata": {},
   "outputs": [
    {
     "ename": "TypeError",
     "evalue": "'>' not supported between instances of 'str' and 'int'",
     "output_type": "error",
     "traceback": [
      "\u001b[1;31m---------------------------------------------------------------------------\u001b[0m",
      "\u001b[1;31mTypeError\u001b[0m                                 Traceback (most recent call last)",
      "\u001b[1;32m~\\AppData\\Local\\Temp/ipykernel_7524/959251780.py\u001b[0m in \u001b[0;36m<module>\u001b[1;34m\u001b[0m\n\u001b[0;32m      1\u001b[0m \u001b[0mb\u001b[0m \u001b[1;33m=\u001b[0m \u001b[1;33m[\u001b[0m \u001b[1;36m1\u001b[0m\u001b[1;33m,\u001b[0m\u001b[1;36m2\u001b[0m\u001b[1;33m,\u001b[0m\u001b[1;36m3\u001b[0m\u001b[1;33m,\u001b[0m\u001b[1;36m5\u001b[0m\u001b[1;33m,\u001b[0m\u001b[1;34m\"daga\"\u001b[0m\u001b[1;33m]\u001b[0m\u001b[1;33m\u001b[0m\u001b[1;33m\u001b[0m\u001b[0m\n\u001b[1;32m----> 2\u001b[1;33m \u001b[0mmax\u001b[0m\u001b[1;33m(\u001b[0m\u001b[0mb\u001b[0m\u001b[1;33m)\u001b[0m\u001b[1;33m\u001b[0m\u001b[1;33m\u001b[0m\u001b[0m\n\u001b[0m",
      "\u001b[1;31mTypeError\u001b[0m: '>' not supported between instances of 'str' and 'int'"
     ]
    }
   ],
   "source": [
    "b = [ 1,2,3,5,\"daga\"]\n",
    "max(b)                             # does not compare  diff data types"
   ]
  },
  {
   "cell_type": "code",
   "execution_count": 10,
   "id": "021e7bf5",
   "metadata": {},
   "outputs": [
    {
     "data": {
      "text/plain": [
       "5"
      ]
     },
     "execution_count": 10,
     "metadata": {},
     "output_type": "execute_result"
    }
   ],
   "source": [
    "b = [ 1,2,3,5]\n",
    "max(b)                 # compares only if data type is same"
   ]
  },
  {
   "cell_type": "code",
   "execution_count": 13,
   "id": "8b484a32",
   "metadata": {},
   "outputs": [
    {
     "data": {
      "text/plain": [
       "'rich'"
      ]
     },
     "execution_count": 13,
     "metadata": {},
     "output_type": "execute_result"
    }
   ],
   "source": [
    "b = ['daga',\"is\",\"rich\"]\n",
    "max(b)                                #just compare alphabetically r is max by rank"
   ]
  },
  {
   "cell_type": "code",
   "execution_count": 1,
   "id": "51b5c523",
   "metadata": {},
   "outputs": [
    {
     "data": {
      "text/plain": [
       "'A'"
      ]
     },
     "execution_count": 1,
     "metadata": {},
     "output_type": "execute_result"
    }
   ],
   "source": [
    "min(['a',\"A\",'ggjgg','tdesx'])       #A is min rank in alphabets ascii range"
   ]
  },
  {
   "cell_type": "code",
   "execution_count": 8,
   "id": "7c22e5f0",
   "metadata": {},
   "outputs": [
    {
     "data": {
      "text/plain": [
       "[1, 2, 3, 5, 'afdfgd']"
      ]
     },
     "execution_count": 8,
     "metadata": {},
     "output_type": "execute_result"
    }
   ],
   "source": [
    "b = [ 1,2,3,5]                       # appends at the end\n",
    "b.append('afdfgd')\n",
    "b"
   ]
  },
  {
   "cell_type": "markdown",
   "id": "37ab7da1",
   "metadata": {},
   "source": [
    "__insert adds element as per the index of original list not new see diff 2 eg__"
   ]
  },
  {
   "cell_type": "code",
   "execution_count": 11,
   "id": "aba80fea",
   "metadata": {},
   "outputs": [
    {
     "data": {
      "text/plain": [
       "[1, 2, 'hhhhh', 3, 5]"
      ]
     },
     "execution_count": 11,
     "metadata": {},
     "output_type": "execute_result"
    }
   ],
   "source": [
    "b = [ 1,2,3,5] \n",
    "b.insert(2,\"hhhhh\")                    \n",
    "b"
   ]
  },
  {
   "cell_type": "code",
   "execution_count": 12,
   "id": "dff46445",
   "metadata": {},
   "outputs": [
    {
     "data": {
      "text/plain": [
       "[1, 2, 3, 'hhhhh', 5]"
      ]
     },
     "execution_count": 12,
     "metadata": {},
     "output_type": "execute_result"
    }
   ],
   "source": [
    "b = [ 1,2,3,5] \n",
    "b.insert(-1,\"hhhhh\")        # here it comes at the index of -1 as per the original list            \n",
    "b"
   ]
  },
  {
   "cell_type": "markdown",
   "id": "4465e91e",
   "metadata": {},
   "source": [
    "__extend fx does same thing as  putting string in list list(string)__"
   ]
  },
  {
   "cell_type": "markdown",
   "id": "778949e6",
   "metadata": {},
   "source": [
    "__both append and extend insert data at last position append takes full strings extend opens up string__                                  \n",
    "__append does not unrap and adds at end as it is but extend unwraps and at items individually at end__"
   ]
  },
  {
   "cell_type": "code",
   "execution_count": 17,
   "id": "3a5025f0",
   "metadata": {},
   "outputs": [
    {
     "data": {
      "text/plain": [
       "[1, 2, 3, 4, 'r', 'a', 'm']"
      ]
     },
     "execution_count": 17,
     "metadata": {},
     "output_type": "execute_result"
    }
   ],
   "source": [
    "a = [1,2,3,4]                                \n",
    "b = \"ram\"\n",
    "c = list(b)\n",
    "a+c"
   ]
  },
  {
   "cell_type": "code",
   "execution_count": 20,
   "id": "4875d825",
   "metadata": {},
   "outputs": [
    {
     "data": {
      "text/plain": [
       "[1, 2, 3, 4, 'r', 'a', 'm']"
      ]
     },
     "execution_count": 20,
     "metadata": {},
     "output_type": "execute_result"
    }
   ],
   "source": [
    "a = [1,2,3,4]\n",
    "a.extend(\"ram\")                             # same result as list(string)\n",
    "a"
   ]
  },
  {
   "cell_type": "markdown",
   "id": "8f3244cf",
   "metadata": {},
   "source": [
    "__append__"
   ]
  },
  {
   "cell_type": "code",
   "execution_count": 27,
   "id": "c8606ca0",
   "metadata": {},
   "outputs": [
    {
     "data": {
      "text/plain": [
       "[1, 2, 3, 4, [10, 20, 30]]"
      ]
     },
     "execution_count": 27,
     "metadata": {},
     "output_type": "execute_result"
    }
   ],
   "source": [
    "a = [1,2,3,4] \n",
    "a.append([10,20,30])         #append does not unwrap add as it is\n",
    "a"
   ]
  },
  {
   "cell_type": "markdown",
   "id": "390dfbf6",
   "metadata": {},
   "source": [
    "__extend__"
   ]
  },
  {
   "cell_type": "code",
   "execution_count": 26,
   "id": "e6208f1a",
   "metadata": {},
   "outputs": [
    {
     "data": {
      "text/plain": [
       "[1, 2, 3, 4, 10, 20, 30]"
      ]
     },
     "execution_count": 26,
     "metadata": {},
     "output_type": "execute_result"
    }
   ],
   "source": [
    "a = [1,2,3,4] \n",
    "a.extend([10,20,30])      #extend unwraps and add at end\n",
    "a"
   ]
  },
  {
   "cell_type": "code",
   "execution_count": 29,
   "id": "210c197e",
   "metadata": {},
   "outputs": [
    {
     "data": {
      "text/plain": [
       "2"
      ]
     },
     "execution_count": 29,
     "metadata": {},
     "output_type": "execute_result"
    }
   ],
   "source": [
    "a = [1,2,3,3,4 ,3] \n",
    "a.index(3)               #will give index of first 3"
   ]
  },
  {
   "cell_type": "markdown",
   "id": "f91e3f5e",
   "metadata": {},
   "source": [
    "__removal of the data__"
   ]
  },
  {
   "cell_type": "code",
   "execution_count": 13,
   "id": "c39904bb",
   "metadata": {},
   "outputs": [
    {
     "data": {
      "text/plain": [
       "3"
      ]
     },
     "execution_count": 13,
     "metadata": {},
     "output_type": "execute_result"
    }
   ],
   "source": [
    "a = [1,2,3,3,4 ,3]\n",
    "a.pop()                   #by default removes the last value or based on index\n"
   ]
  },
  {
   "cell_type": "code",
   "execution_count": 14,
   "id": "c8f97a7e",
   "metadata": {},
   "outputs": [
    {
     "name": "stdout",
     "output_type": "stream",
     "text": [
      "[1, 2, 3, 3, 4]\n"
     ]
    }
   ],
   "source": [
    "print(a)      "
   ]
  },
  {
   "cell_type": "code",
   "execution_count": 38,
   "id": "f929f0b6",
   "metadata": {},
   "outputs": [
    {
     "data": {
      "text/plain": [
       "2"
      ]
     },
     "execution_count": 38,
     "metadata": {},
     "output_type": "execute_result"
    }
   ],
   "source": [
    "a.pop(1)"
   ]
  },
  {
   "cell_type": "code",
   "execution_count": 15,
   "id": "d359f77b",
   "metadata": {},
   "outputs": [
    {
     "data": {
      "text/plain": [
       "[1, 2, 3, 4]"
      ]
     },
     "execution_count": 15,
     "metadata": {},
     "output_type": "execute_result"
    }
   ],
   "source": [
    "a.remove(3)              #removes first 3 or removes on the bases of values not index\n",
    "a"
   ]
  },
  {
   "cell_type": "code",
   "execution_count": 46,
   "id": "6610fe26",
   "metadata": {},
   "outputs": [
    {
     "data": {
      "text/plain": [
       "[1, 2, 3, 4, 5, 5, 6, 7, 8, 9]"
      ]
     },
     "execution_count": 46,
     "metadata": {},
     "output_type": "execute_result"
    }
   ],
   "source": [
    "l = [1,5,7,9,6,2,4,3,5,8]\n",
    "l.sort()               #sorts the data by default ascending  \n",
    "l\n"
   ]
  },
  {
   "cell_type": "code",
   "execution_count": 83,
   "id": "94ad005a",
   "metadata": {},
   "outputs": [
    {
     "name": "stdout",
     "output_type": "stream",
     "text": [
      "[[1, 2, 3], ['aa', 1, 55], [(5+6j)], [66], [4, 9], 'yyy', 99]\n"
     ]
    }
   ],
   "source": [
    "a=[[1,2,3],['aa',1,55],'yyy',99]\n",
    "a.insert(2,[4,9])\n",
    "a.insert(2,[66])\n",
    "a.insert(2,[5+6j])\n",
    "print(a)\n",
    "for i in a :\n",
    "    if type(i)==list:\n",
    "        for j in i :\n",
    "            if type(j)==str():\n",
    "                \"string  to be removed has index {} {}\".format(i,j)\n",
    "            \n",
    "            "
   ]
  },
  {
   "cell_type": "code",
   "execution_count": 1,
   "id": "ffdd38d8",
   "metadata": {},
   "outputs": [
    {
     "name": "stdout",
     "output_type": "stream",
     "text": [
      "Index of string b is : 2\n",
      "Index of string b is : 3\n",
      "Index of string b is : 4\n",
      "The string in the nested list is 'b'\n",
      "The string in the nested list is 'b'\n",
      "The string in the nested list is 'b'\n",
      "Index of string t is : 1\n",
      "The string in the nested list is 't'\n",
      "List after removal of string from nested list is\r",
      " [[1, 2, 3], [11, 12], [21, 223], [4, 5, 6], [7, 8, 9], 'demo', 12.5] \n",
      "\n"
     ]
    }
   ],
   "source": [
    "#2. Find the index of string element in the nested list and remove the string  ( solution by a student )\n",
    "l = [[1, 2, 3],\n",
    " [11, 12, 'b', 'b', 'b'],\n",
    " [21, 't', 223],\n",
    " [4, 5, 6],\n",
    " [7, 8, 9],\n",
    " 'demo',\n",
    " 12.5]\n",
    "\n",
    "for i in l:\n",
    "    if type(i) == list:\n",
    "        j=0\n",
    "        while j < len(i):\n",
    "            if type(i[j]) is str:\n",
    "                print(\"Index of string {} is :\".format(i[j]),j)\n",
    "            j = j +1\n",
    "        j=0\n",
    "        while j < len(i):\n",
    "            if type(i[j]) is str:\n",
    "                print(\"The string in the nested list is '{}'\".format(i[j]))\n",
    "                i.remove(i[j])\n",
    "                continue\n",
    "            j = j +1\n",
    "print(\"List after removal of string from nested list is\\r\",l,'\\n')\n"
   ]
  },
  {
   "cell_type": "markdown",
   "id": "ead4cc90",
   "metadata": {},
   "source": [
    "__make a code short__"
   ]
  },
  {
   "cell_type": "code",
   "execution_count": 16,
   "id": "02989a68",
   "metadata": {},
   "outputs": [
    {
     "data": {
      "text/plain": [
       "['s', 'u', 'd', 'h']"
      ]
     },
     "execution_count": 16,
     "metadata": {},
     "output_type": "execute_result"
    }
   ],
   "source": [
    "a = []\n",
    "for i in 'sudh':                        #comprihension opeartion\n",
    "    a.append(i)\n",
    "a"
   ]
  },
  {
   "cell_type": "code",
   "execution_count": 18,
   "id": "45ee5935",
   "metadata": {},
   "outputs": [
    {
     "data": {
      "text/plain": [
       "['s', 'u', 'd', 'h']"
      ]
     },
     "execution_count": 18,
     "metadata": {},
     "output_type": "execute_result"
    }
   ],
   "source": [
    "[i for i in 'sudh' ]"
   ]
  },
  {
   "cell_type": "code",
   "execution_count": 19,
   "id": "cf3c33ed",
   "metadata": {},
   "outputs": [
    {
     "data": {
      "text/plain": [
       "[['s'], ['u'], ['d'], ['h']]"
      ]
     },
     "execution_count": 19,
     "metadata": {},
     "output_type": "execute_result"
    }
   ],
   "source": [
    "[[i] for i in 'sudh']"
   ]
  },
  {
   "cell_type": "code",
   "execution_count": 22,
   "id": "78c7124e",
   "metadata": {},
   "outputs": [
    {
     "data": {
      "text/plain": [
       "[0, 2, 4, 6, 8]"
      ]
     },
     "execution_count": 22,
     "metadata": {},
     "output_type": "execute_result"
    }
   ],
   "source": [
    "l = []\n",
    "for i in range(10):\n",
    "    if i%2 == 0:\n",
    "        l.append(i)                     # % it is remainder fx\n",
    "l"
   ]
  },
  {
   "cell_type": "code",
   "execution_count": 24,
   "id": "7e6ec6b3",
   "metadata": {},
   "outputs": [
    {
     "data": {
      "text/plain": [
       "[0, 2, 4, 6, 8]"
      ]
     },
     "execution_count": 24,
     "metadata": {},
     "output_type": "execute_result"
    }
   ],
   "source": [
    "l = []\n",
    "[i for i in range(10) if i%2==0]"
   ]
  },
  {
   "cell_type": "code",
   "execution_count": 23,
   "id": "e6df8813",
   "metadata": {},
   "outputs": [
    {
     "data": {
      "text/plain": [
       "1"
      ]
     },
     "execution_count": 23,
     "metadata": {},
     "output_type": "execute_result"
    }
   ],
   "source": [
    "5%2"
   ]
  },
  {
   "cell_type": "code",
   "execution_count": 28,
   "id": "71803301",
   "metadata": {},
   "outputs": [
    {
     "data": {
      "text/plain": [
       "['even', 'odd', 'even', 'odd', 'even', 'odd', 'even', 'odd', 'even', 'odd']"
      ]
     },
     "execution_count": 28,
     "metadata": {},
     "output_type": "execute_result"
    }
   ],
   "source": [
    "l = []\n",
    "for i in range(10) :\n",
    "    if i %2 == 0 :\n",
    "        l.append('even')\n",
    "    else :\n",
    "        l.append('odd')\n",
    "l\n",
    "        \n",
    "        "
   ]
  },
  {
   "cell_type": "code",
   "execution_count": 32,
   "id": "1c645ae1",
   "metadata": {},
   "outputs": [
    {
     "data": {
      "text/plain": [
       "['even', 'odd', 'even', 'odd', 'even', 'odd', 'even', 'odd', 'even', 'odd']"
      ]
     },
     "execution_count": 32,
     "metadata": {},
     "output_type": "execute_result"
    }
   ],
   "source": [
    "l = []\n",
    "['even' if i%2==0   else  'odd' for i in range(10) ]"
   ]
  },
  {
   "cell_type": "code",
   "execution_count": 5,
   "id": "2ae1e154",
   "metadata": {},
   "outputs": [
    {
     "data": {
      "text/plain": [
       "[4, 1, 4, 1, 4, 1]"
      ]
     },
     "execution_count": 5,
     "metadata": {},
     "output_type": "execute_result"
    }
   ],
   "source": [
    "mat = []\n",
    "for i in range(3):\n",
    "    mat.append(4)\n",
    "    mat.append(1)\n",
    "   \n",
    "mat        "
   ]
  },
  {
   "cell_type": "code",
   "execution_count": 7,
   "id": "73d73655",
   "metadata": {},
   "outputs": [
    {
     "data": {
      "text/plain": [
       "[[0, 1, 2], [0, 1, 2], [0, 1, 2]]"
      ]
     },
     "execution_count": 7,
     "metadata": {},
     "output_type": "execute_result"
    }
   ],
   "source": [
    "mat = []\n",
    "for i in range(3):\n",
    "    mat.append([])                # it adds 3 empty list in every loop\n",
    "    for j in range(3) :           \n",
    "        mat[i].append(j)      # it adds elements in nested list inside mat ( it adds to the list at 0th index in mat list)\n",
    "mat"
   ]
  },
  {
   "cell_type": "code",
   "execution_count": 2,
   "id": "630d603b",
   "metadata": {},
   "outputs": [
    {
     "data": {
      "text/plain": [
       "[[0, 1, 2], [0, 1, 2], [0, 1, 2]]"
      ]
     },
     "execution_count": 2,
     "metadata": {},
     "output_type": "execute_result"
    }
   ],
   "source": [
    "[[j for j in range(3)] for i in range(3)]     # comprehensive code for same above program"
   ]
  },
  {
   "cell_type": "code",
   "execution_count": 4,
   "id": "195ab077",
   "metadata": {},
   "outputs": [
    {
     "data": {
      "text/plain": [
       "[0, 2, 4, 6, 8]"
      ]
     },
     "execution_count": 4,
     "metadata": {},
     "output_type": "execute_result"
    }
   ],
   "source": [
    "[ i for i in range(9) if i%2 == 0 ]           # single if check"
   ]
  },
  {
   "cell_type": "code",
   "execution_count": 5,
   "id": "b59ab71a",
   "metadata": {},
   "outputs": [
    {
     "data": {
      "text/plain": [
       "[0, 6]"
      ]
     },
     "execution_count": 5,
     "metadata": {},
     "output_type": "execute_result"
    }
   ],
   "source": [
    "                                                # all multiple if conditions are on the right\n",
    "[ i for i in range(9) if i%2 == 0 if i%3==0]      # check both 2 and 3 multiple"
   ]
  },
  {
   "cell_type": "code",
   "execution_count": 6,
   "id": "e02ccc05",
   "metadata": {},
   "outputs": [
    {
     "data": {
      "text/plain": [
       "[0, 6]"
      ]
     },
     "execution_count": 6,
     "metadata": {},
     "output_type": "execute_result"
    }
   ],
   "source": [
    "l=[]\n",
    "for i in range(9) :\n",
    "    if i%2 == 0:\n",
    "        if i%3 == 0:\n",
    "            l.append(i)\n",
    "l            "
   ]
  },
  {
   "cell_type": "code",
   "execution_count": 8,
   "id": "68f34ff7",
   "metadata": {},
   "outputs": [
    {
     "data": {
      "text/plain": [
       "['no', 'one', 'two', 'no', 'no', 'no', 'no', 'no', 'no', 'no']"
      ]
     },
     "execution_count": 8,
     "metadata": {},
     "output_type": "execute_result"
    }
   ],
   "source": [
    "              #before for loop its output   [i for i in range(10)] \n",
    "             # --if's output -- if condition-- else -- else output--\n",
    "            # multiple if condition in else same syntax as above    [\"one\" if i==1 else \"two\" if i == 2 else \"no\"  for i in l]\n",
    "    \n",
    "\n",
    "\n",
    "\n",
    "l=[i for i in range(10)]      \n",
    "[\"one\" if i==1 else \"two\" if i == 2 else \"no\"  for i in l]\n"
   ]
  },
  {
   "cell_type": "code",
   "execution_count": null,
   "id": "ff4cdb63",
   "metadata": {},
   "outputs": [],
   "source": []
  },
  {
   "cell_type": "code",
   "execution_count": null,
   "id": "ddf32c3d",
   "metadata": {},
   "outputs": [],
   "source": []
  }
 ],
 "metadata": {
  "kernelspec": {
   "display_name": "Python 3 (ipykernel)",
   "language": "python",
   "name": "python3"
  },
  "language_info": {
   "codemirror_mode": {
    "name": "ipython",
    "version": 3
   },
   "file_extension": ".py",
   "mimetype": "text/x-python",
   "name": "python",
   "nbconvert_exporter": "python",
   "pygments_lexer": "ipython3",
   "version": "3.9.7"
  }
 },
 "nbformat": 4,
 "nbformat_minor": 5
}
