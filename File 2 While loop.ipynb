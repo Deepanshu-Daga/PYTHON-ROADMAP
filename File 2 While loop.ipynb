{
 "cells": [
  {
   "cell_type": "code",
   "execution_count": 10,
   "id": "f5c5718c",
   "metadata": {},
   "outputs": [
    {
     "name": "stdout",
     "output_type": "stream",
     "text": [
      "partially true\n"
     ]
    }
   ],
   "source": [
    "a = 10 \n",
    "b = 16 \n",
    "if a == 10 and b == 20:\n",
    "    print('statement is valid')\n",
    "elif a == 10 and b <=20:\n",
    "    print('partially true')\n",
    "else:\n",
    "    print('statement is not valid')"
   ]
  },
  {
   "cell_type": "code",
   "execution_count": 6,
   "id": "08fdf3ab",
   "metadata": {},
   "outputs": [
    {
     "data": {
      "text/plain": [
       "True"
      ]
     },
     "execution_count": 6,
     "metadata": {},
     "output_type": "execute_result"
    }
   ],
   "source": [
    "a == 10 and b == 20                            # if in doubt break your code "
   ]
  },
  {
   "cell_type": "code",
   "execution_count": 7,
   "id": "510fd595",
   "metadata": {},
   "outputs": [
    {
     "data": {
      "text/plain": [
       "False"
      ]
     },
     "execution_count": 7,
     "metadata": {},
     "output_type": "execute_result"
    }
   ],
   "source": [
    "a == 21"
   ]
  },
  {
   "cell_type": "code",
   "execution_count": 13,
   "id": "12e9d5fc",
   "metadata": {},
   "outputs": [
    {
     "name": "stdout",
     "output_type": "stream",
     "text": [
      "first name lll\n",
      "last namekkk\n",
      "same\n"
     ]
    }
   ],
   "source": [
    "a,b = input('first name '),input('last name')\n",
    "if len(a) > len(b):\n",
    "    print('first big')\n",
    "elif len(a)  == len(b):\n",
    "    print('same')\n",
    "else:\n",
    "    print('last big')\n",
    "\n"
   ]
  },
  {
   "cell_type": "markdown",
   "id": "fb9207da",
   "metadata": {},
   "source": [
    "# while loop work on i<int , here manual increment is there , here we have no idea how many times the loop will be executed\n",
    "\n",
    "# for loop works on i in range(int) range is provided , auto increment of step 1 is there , loop iteration are known already"
   ]
  },
  {
   "cell_type": "code",
   "execution_count": 2,
   "id": "9c3f403b",
   "metadata": {},
   "outputs": [
    {
     "name": "stdout",
     "output_type": "stream",
     "text": [
      "loop\n",
      "loop\n",
      "loop\n",
      "loop\n"
     ]
    }
   ],
   "source": [
    "a = 0                                         # while loop will conntinue on and on till the condition does not break \n",
    "b = 10                                        # thus count value is defined outside while or it will execute infinite times\n",
    "count = 1                                     # \n",
    "while a<b:\n",
    "    print('loop')\n",
    "    count = count + 1\n",
    "    if count == 5:\n",
    "        break"
   ]
  },
  {
   "cell_type": "code",
   "execution_count": 3,
   "id": "8721c958",
   "metadata": {},
   "outputs": [
    {
     "name": "stdout",
     "output_type": "stream",
     "text": [
      "1\n",
      "2\n",
      "3\n",
      "4\n"
     ]
    }
   ],
   "source": [
    "i = 1\n",
    "j = 5\n",
    "while i<j:\n",
    "    print(i)\n",
    "    i = i + 1"
   ]
  },
  {
   "cell_type": "code",
   "execution_count": 5,
   "id": "b07b187c",
   "metadata": {},
   "outputs": [
    {
     "name": "stdout",
     "output_type": "stream",
     "text": [
      "10\n",
      "12\n",
      "14\n",
      "16\n",
      "18\n",
      "money\n"
     ]
    }
   ],
   "source": [
    "i = 10\n",
    "j = 20\n",
    "while i < j:                      # while loop executes till i<j does not voilates\n",
    "    print(i)\n",
    "    i += 2                       #  means i=i+2\n",
    "else :\n",
    "    print('money')                #python supports individual else loop also without if loop"
   ]
  },
  {
   "cell_type": "code",
   "execution_count": 19,
   "id": "972195f7",
   "metadata": {},
   "outputs": [
    {
     "name": "stdout",
     "output_type": "stream",
     "text": [
      "1\n",
      "2\n",
      "3\n",
      "4\n",
      "5\n",
      "money\n",
      "5\n",
      "money\n",
      "5\n",
      "money\n",
      "5\n",
      "money\n"
     ]
    }
   ],
   "source": [
    "i = 1 \n",
    "j = 1\n",
    "k = 5\n",
    "while i<k:\n",
    "    print(i)\n",
    "    i=i+1\n",
    "else :\n",
    "    while j<k:\n",
    "        print(i)\n",
    "        j=j+1\n",
    "        print('money')                 #see the difference in output for this and next for last print()\n",
    "        \n",
    "                                       #last print is a part of loop here indenation"
   ]
  },
  {
   "cell_type": "code",
   "execution_count": 18,
   "id": "4416473f",
   "metadata": {},
   "outputs": [
    {
     "name": "stdout",
     "output_type": "stream",
     "text": [
      "1\n",
      "2\n",
      "3\n",
      "4\n",
      "5\n",
      "5\n",
      "5\n",
      "5\n",
      "money\n"
     ]
    }
   ],
   "source": [
    "i = 1 \n",
    "j = 1\n",
    "k = 5\n",
    "while i<k:\n",
    "    print(i)\n",
    "    i=i+1\n",
    "else :\n",
    "    while j<k:\n",
    "        print(i)\n",
    "        j=j+1\n",
    "print('money')                          #see the difference in output for this and next for last print()\n",
    "        \n",
    "                                       #last print is a outloop side loop here indenation difference"
   ]
  },
  {
   "cell_type": "code",
   "execution_count": 22,
   "id": "ec4aa871",
   "metadata": {},
   "outputs": [
    {
     "data": {
      "text/plain": [
       "'my n'"
      ]
     },
     "execution_count": 22,
     "metadata": {},
     "output_type": "execute_result"
    }
   ],
   "source": [
    "a = \"my name is deepanshu\"       #wether it is list , set , tuple , or string same rule folow of  start inclusion and end exclusion\n",
    "a[0:4]                           #by default it includes initial index and excludes the end index"
   ]
  },
  {
   "cell_type": "code",
   "execution_count": 37,
   "id": "e8ca12d3",
   "metadata": {},
   "outputs": [
    {
     "data": {
      "text/plain": [
       "'my n'"
      ]
     },
     "execution_count": 37,
     "metadata": {},
     "output_type": "execute_result"
    }
   ],
   "source": [
    "a = \"my name is deepanshu\"       \n",
    "a[0:4:1] \n",
    "                                # a[start : end : step size]"
   ]
  },
  {
   "cell_type": "code",
   "execution_count": 51,
   "id": "8faf62bb",
   "metadata": {
    "scrolled": true
   },
   "outputs": [
    {
     "name": "stdout",
     "output_type": "stream",
     "text": [
      " input your string dagagaga\n"
     ]
    },
    {
     "data": {
      "text/plain": [
       "'agagagad'"
      ]
     },
     "execution_count": 51,
     "metadata": {},
     "output_type": "execute_result"
    }
   ],
   "source": [
    "a = input(' input your string ')        #reverse a string always remenber end is excluded \n",
    "c = len(a)\n",
    "a[-1:-c-1:-1 ]\n"
   ]
  },
  {
   "cell_type": "code",
   "execution_count": 55,
   "id": "54a1d341",
   "metadata": {},
   "outputs": [
    {
     "name": "stdout",
     "output_type": "stream",
     "text": [
      " input your string i am deepanshu\n"
     ]
    },
    {
     "data": {
      "text/plain": [
       "'uhsnapeed ma i'"
      ]
     },
     "execution_count": 55,
     "metadata": {},
     "output_type": "execute_result"
    }
   ],
   "source": [
    "a = input(' input your string ')         # if nothing  given a[::-1] means start to end -1 as decrement means start from end\n",
    "a[::-1]"
   ]
  },
  {
   "cell_type": "code",
   "execution_count": 56,
   "id": "a7abfe19",
   "metadata": {},
   "outputs": [
    {
     "data": {
      "text/plain": [
       "'i am deepanshu'"
      ]
     },
     "execution_count": 56,
     "metadata": {},
     "output_type": "execute_result"
    }
   ],
   "source": [
    "a[::+1]                                   # if nothing  given a[::+1] means start to end +1 as increment means start from start"
   ]
  },
  {
   "cell_type": "code",
   "execution_count": null,
   "id": "f5a9ab5c",
   "metadata": {},
   "outputs": [],
   "source": []
  }
 ],
 "metadata": {
  "kernelspec": {
   "display_name": "Python 3 (ipykernel)",
   "language": "python",
   "name": "python3"
  },
  "language_info": {
   "codemirror_mode": {
    "name": "ipython",
    "version": 3
   },
   "file_extension": ".py",
   "mimetype": "text/x-python",
   "name": "python",
   "nbconvert_exporter": "python",
   "pygments_lexer": "ipython3",
   "version": "3.9.7"
  }
 },
 "nbformat": 4,
 "nbformat_minor": 5
}
