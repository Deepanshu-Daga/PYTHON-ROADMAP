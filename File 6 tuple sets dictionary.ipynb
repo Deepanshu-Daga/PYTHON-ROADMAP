{
 "cells": [
  {
   "cell_type": "markdown",
   "id": "c4a5a7c9",
   "metadata": {},
   "source": [
    "__Python Collections (Arrays)\n",
    "There are four collection data types in the Python programming language__\n",
    "\n",
    "__List is a collection which is ordered and changeable. Allows duplicate members.__\n",
    "__Tuple is a collection which is ordered and unchangeable. Allows duplicate members.__\n",
    "__Set is a collection which is unordered, unchangeable*, and unindexed. No duplicate members.__\n",
    "__Dictionary is a collection which is ordered** and changeable. No duplicate members__"
   ]
  },
  {
   "cell_type": "markdown",
   "id": "abb86c3a",
   "metadata": {},
   "source": [
    "# tuple is similar to list but round brackets"
   ]
  },
  {
   "cell_type": "code",
   "execution_count": 1,
   "id": "787ae27b",
   "metadata": {},
   "outputs": [
    {
     "data": {
      "text/plain": [
       "tuple"
      ]
     },
     "execution_count": 1,
     "metadata": {},
     "output_type": "execute_result"
    }
   ],
   "source": [
    "a = ()\n",
    "type(a)"
   ]
  },
  {
   "cell_type": "code",
   "execution_count": 2,
   "id": "f588ea95",
   "metadata": {},
   "outputs": [
    {
     "data": {
      "text/plain": [
       "list"
      ]
     },
     "execution_count": 2,
     "metadata": {},
     "output_type": "execute_result"
    }
   ],
   "source": [
    "b = []\n",
    "type(b)"
   ]
  },
  {
   "cell_type": "code",
   "execution_count": 3,
   "id": "851a0689",
   "metadata": {},
   "outputs": [
    {
     "name": "stdout",
     "output_type": "stream",
     "text": [
      "1\n",
      "1\n"
     ]
    }
   ],
   "source": [
    "a = ( 1, 'jjjj', 5+6j,True, 55.66)\n",
    "b = [1, 'jjjj', 5+6j,True, 55.66]     #list and tuple both can take same content\n",
    "print(a[0])\n",
    "print(b[0])                           # for calling index values both require [] square brackets"
   ]
  },
  {
   "cell_type": "code",
   "execution_count": 4,
   "id": "f648eb0a",
   "metadata": {},
   "outputs": [
    {
     "name": "stdout",
     "output_type": "stream",
     "text": [
      "(55.66, True, (5+6j), 'jjjj', 1)\n",
      "[55.66, True, (5+6j), 'jjjj', 1]\n"
     ]
    }
   ],
   "source": [
    "print(a[::-1])                        # sicing operation will also be same\n",
    "print(b[::-1])"
   ]
  },
  {
   "cell_type": "markdown",
   "id": "544b50c5",
   "metadata": {},
   "source": [
    "# tuples are called imutable collection , list can be assigned new values but tuples does not accept any new assigned value once formed"
   ]
  },
  {
   "cell_type": "code",
   "execution_count": 5,
   "id": "5a03caa8",
   "metadata": {},
   "outputs": [
    {
     "data": {
      "text/plain": [
       "['daga', 'jjjj', (5+6j), True, 55.66]"
      ]
     },
     "execution_count": 5,
     "metadata": {},
     "output_type": "execute_result"
    }
   ],
   "source": [
    "a = ( 1, 'jjjj', 5+6j,True, 55.66)    # tuple\n",
    "b = [1, 'jjjj', 5+6j,True, 55.66]     # list\n",
    "b[0] = \"daga\"                                     # b is list thus new value assigned (mutable)\n",
    "b"
   ]
  },
  {
   "cell_type": "code",
   "execution_count": 8,
   "id": "9bb9eb69",
   "metadata": {},
   "outputs": [
    {
     "ename": "TypeError",
     "evalue": "'tuple' object does not support item assignment",
     "output_type": "error",
     "traceback": [
      "\u001b[1;31m---------------------------------------------------------------------------\u001b[0m",
      "\u001b[1;31mTypeError\u001b[0m                                 Traceback (most recent call last)",
      "\u001b[1;32m~\\AppData\\Local\\Temp/ipykernel_11352/2249741143.py\u001b[0m in \u001b[0;36m<module>\u001b[1;34m\u001b[0m\n\u001b[1;32m----> 1\u001b[1;33m \u001b[0ma\u001b[0m\u001b[1;33m[\u001b[0m\u001b[1;36m0\u001b[0m\u001b[1;33m]\u001b[0m \u001b[1;33m=\u001b[0m \u001b[1;34m\"daga\"\u001b[0m\u001b[1;33m\u001b[0m\u001b[1;33m\u001b[0m\u001b[0m\n\u001b[0m\u001b[0;32m      2\u001b[0m \u001b[0ma\u001b[0m\u001b[1;33m\u001b[0m\u001b[1;33m\u001b[0m\u001b[0m\n",
      "\u001b[1;31mTypeError\u001b[0m: 'tuple' object does not support item assignment"
     ]
    }
   ],
   "source": [
    "a[0] = \"daga\"\n",
    "a                                                 #tuple are imutable"
   ]
  },
  {
   "cell_type": "code",
   "execution_count": null,
   "id": "2be6e387",
   "metadata": {},
   "outputs": [],
   "source": [
    "# mutablity and imutablity comes into picture when we have to assign new value to the same old ram address \n",
    "#but both can take values for new ram adress "
   ]
  },
  {
   "cell_type": "code",
   "execution_count": 9,
   "id": "b6a6776b",
   "metadata": {},
   "outputs": [
    {
     "data": {
      "text/plain": [
       "(1, 'jjjj', (5+6j), True, 55.66, 'daga', 'is', 'rich')"
      ]
     },
     "execution_count": 9,
     "metadata": {},
     "output_type": "execute_result"
    }
   ],
   "source": [
    "b = [1, 'jjjj', 5+6j,True, 55.66]\n",
    "c = (\"daga\", \"is\", \"rich\")\n",
    "a+c                              # this happens even after imutablity because b+c has new ram adress in system"
   ]
  },
  {
   "cell_type": "code",
   "execution_count": 10,
   "id": "da01bb13",
   "metadata": {},
   "outputs": [
    {
     "data": {
      "text/plain": [
       "True"
      ]
     },
     "execution_count": 10,
     "metadata": {},
     "output_type": "execute_result"
    }
   ],
   "source": [
    "b = [1, 'jjjj', 5+6j,True, 55.66]\n",
    "\"jjjj\"   in b"
   ]
  },
  {
   "cell_type": "code",
   "execution_count": 14,
   "id": "02caa1dd",
   "metadata": {},
   "outputs": [
    {
     "name": "stdout",
     "output_type": "stream",
     "text": [
      "5\n",
      "2\n"
     ]
    }
   ],
   "source": [
    "b = [1, 'jjjj',34, 5+6j,True,34,34,34,34, 55.66]\n",
    "print(b.count(34))\n",
    "print(b.index(34))             # similar to list first 34"
   ]
  },
  {
   "cell_type": "code",
   "execution_count": null,
   "id": "1fa52437",
   "metadata": {},
   "outputs": [],
   "source": [
    "# since tuple is imutable entity only index and count are allowerd thus no  other fx  as in list like extend append insert upper"
   ]
  },
  {
   "cell_type": "code",
   "execution_count": 140,
   "id": "d5ea71ca",
   "metadata": {},
   "outputs": [
    {
     "name": "stdout",
     "output_type": "stream",
     "text": [
      "[1, 'jjjj', 56, 34, (5+6j), True, 34, 34, 34, 34, 55.66]\n"
     ]
    },
    {
     "data": {
      "text/plain": [
       "(1, 'jjjj', 56, 34, (5+6j), True, 34, 34, 34, 34, 55.66)"
      ]
     },
     "execution_count": 140,
     "metadata": {},
     "output_type": "execute_result"
    }
   ],
   "source": [
    "\n",
    "# direct insersion in case of tuples is not allowed\n",
    "# how to insert a element into tuple \n",
    "# since tuple is imutable convert it into list first \n",
    "#than insert in list at desired location \n",
    "# and convert back list to tuple\n",
    "\n",
    "# add 56 at index 2 in a tuple\n",
    "\n",
    "b = (1, 'jjjj',34, 5+6j,True,34,34,34,34, 55.66)\n",
    "lst = list(b)\n",
    "lst.insert(2,56)\n",
    "print(lst)           # its list\n",
    "tuple(lst)           # its tuple\n",
    "\n",
    "\n",
    "\n"
   ]
  },
  {
   "cell_type": "markdown",
   "id": "1f0492f4",
   "metadata": {},
   "source": [
    " __You can use a List to store the steps necessary to cook a chicken, because Lists support sequential access and you can access the steps in order__\n",
    "\n",
    "__You can use a Tuple to store the latitude and longitude of your home, because a tuple always has a predefined number of elements (in this specific example, two). The same Tuple type can be used to store the coordinates of other locations\n",
    "Since tuples are immutable, iterating through a tuple is faster than with list. So there is a slight performance boost.\n",
    "Tuples that contain immutable elements can be used as a key for a dictionary. With lists, this is not possible.__\n",
    "\n",
    "__You can use a Set to store passport numbers, because a Set enforces uniqueness among its elements. Passport numbers are always unique and two people can't have the same one__"
   ]
  },
  {
   "cell_type": "code",
   "execution_count": null,
   "id": "389bfd70",
   "metadata": {},
   "outputs": [],
   "source": [
    "# __nested tuples are allowed__\n",
    " \n"
   ]
  },
  {
   "cell_type": "code",
   "execution_count": 70,
   "id": "05be32d5",
   "metadata": {},
   "outputs": [],
   "source": [
    "b = (('ffff', 12) , (1,2,3),('daga', 1 , 2+2j), (True,11), [5,4,6] , [2,5,6 ,1,1])\n"
   ]
  },
  {
   "cell_type": "code",
   "execution_count": 62,
   "id": "c53b3c20",
   "metadata": {},
   "outputs": [
    {
     "name": "stdout",
     "output_type": "stream",
     "text": [
      "[5, 4, 6]\n",
      "tuple index is  4 and list index is 0 \n",
      "[2, 5, 6]\n",
      "tuple index is  5 and list index is 1 \n"
     ]
    }
   ],
   "source": [
    "count=0  \n",
    "for i in b :\n",
    "    if type(i)==list :\n",
    "        print(i)\n",
    "        for j in i :\n",
    "            if j == 5:\n",
    "                print ('tuple index is  {} and list index is {} '.format(b.index(i),i.index(j)))\n",
    "                count=count+1\n",
    "\n",
    "if count==0 :\n",
    "    print('no list with 5')\n",
    "       "
   ]
  },
  {
   "cell_type": "code",
   "execution_count": 64,
   "id": "da9dff2f",
   "metadata": {},
   "outputs": [
    {
     "data": {
      "text/plain": [
       "tuple"
      ]
     },
     "execution_count": 64,
     "metadata": {},
     "output_type": "execute_result"
    }
   ],
   "source": [
    "type(b)"
   ]
  },
  {
   "cell_type": "code",
   "execution_count": 65,
   "id": "f38127dc",
   "metadata": {},
   "outputs": [
    {
     "data": {
      "text/plain": [
       "list"
      ]
     },
     "execution_count": 65,
     "metadata": {},
     "output_type": "execute_result"
    }
   ],
   "source": [
    "type(b[5])                     # way to acess value in tuples"
   ]
  },
  {
   "cell_type": "code",
   "execution_count": 66,
   "id": "55121d3b",
   "metadata": {},
   "outputs": [
    {
     "data": {
      "text/plain": [
       "5"
      ]
     },
     "execution_count": 66,
     "metadata": {},
     "output_type": "execute_result"
    }
   ],
   "source": [
    "b[5][1]"
   ]
  },
  {
   "cell_type": "code",
   "execution_count": 72,
   "id": "9b0b9967",
   "metadata": {},
   "outputs": [
    {
     "data": {
      "text/plain": [
       "[5, 6, 1, 1]"
      ]
     },
     "execution_count": 72,
     "metadata": {},
     "output_type": "execute_result"
    }
   ],
   "source": [
    "b[5][1:]"
   ]
  },
  {
   "cell_type": "code",
   "execution_count": 74,
   "id": "8b3fe99f",
   "metadata": {},
   "outputs": [
    {
     "name": "stdout",
     "output_type": "stream",
     "text": [
      "ffff\n",
      "1\n",
      "daga\n",
      "True\n"
     ]
    }
   ],
   "source": [
    "for i in b :                   # acess first elemt of every tuple\n",
    "    if type(i) == tuple:\n",
    "        print(i[0])"
   ]
  },
  {
   "cell_type": "code",
   "execution_count": 80,
   "id": "9d290119",
   "metadata": {},
   "outputs": [
    {
     "name": "stdout",
     "output_type": "stream",
     "text": [
      "for string element check press y for int element test press xx\n",
      "enter digit to be checked  1\n",
      "digit exist\n",
      "digit exist\n",
      "digit exist\n",
      "digit exist\n",
      "digit exist\n"
     ]
    }
   ],
   "source": [
    "\n",
    "b = (('ffff',12),(1,2,3),('daga',1,2+2j),(True,11),[5,4,6],[2,5,6,1,1])\n",
    "\n",
    "def alpha() :\n",
    "    global s\n",
    "    s = (input('enter string to be checked  '))\n",
    "\n",
    "def digit() :\n",
    "    global d\n",
    "    d = int(input('enter digit to be checked  '))\n",
    "\n",
    "\n",
    "k = input('for string element check press y for int element test press x' )\n",
    "\n",
    "if k == 'x':\n",
    "    digit() \n",
    "    count = 0\n",
    "    for i in b :\n",
    "        for j in i :\n",
    "            if j == d :\n",
    "                print('digit exist')\n",
    "                count = count +1\n",
    "                \n",
    "    if count == 0 :\n",
    "        print('digit not exist')\n",
    "                \n",
    "        \n",
    "        \n",
    "if k == 'y':\n",
    "    alpha()\n",
    "    count = 0\n",
    "    for i in b :\n",
    "        for j in i :\n",
    "            if j == s :\n",
    "                print('string exist')\n",
    "                count = count +1\n",
    "    if count == 0 :\n",
    "        print(' string not exist')\n",
    "                \n",
    "            \n",
    "\n",
    "\n",
    "\n",
    "\n",
    "\n"
   ]
  },
  {
   "cell_type": "code",
   "execution_count": 129,
   "id": "1473a966",
   "metadata": {},
   "outputs": [
    {
     "name": "stdout",
     "output_type": "stream",
     "text": [
      "digit exist\n"
     ]
    }
   ],
   "source": [
    "\n",
    "     for i in b :\n",
    "        for j in i :\n",
    "            if j == 11 :\n",
    "                print('digit exist')"
   ]
  },
  {
   "cell_type": "code",
   "execution_count": 139,
   "id": "2fd0dd14",
   "metadata": {},
   "outputs": [
    {
     "ename": "NameError",
     "evalue": "name 'k' is not defined",
     "output_type": "error",
     "traceback": [
      "\u001b[1;31m---------------------------------------------------------------------------\u001b[0m",
      "\u001b[1;31mNameError\u001b[0m                                 Traceback (most recent call last)",
      "\u001b[1;32m~\\AppData\\Local\\Temp/ipykernel_8536/890928433.py\u001b[0m in \u001b[0;36m<module>\u001b[1;34m\u001b[0m\n\u001b[0;32m      2\u001b[0m \u001b[0mj\u001b[0m \u001b[1;33m=\u001b[0m \u001b[1;33m(\u001b[0m\u001b[1;33m(\u001b[0m\u001b[1;34m'ffff'\u001b[0m\u001b[1;33m,\u001b[0m\u001b[1;36m12\u001b[0m\u001b[1;33m)\u001b[0m\u001b[1;33m,\u001b[0m\u001b[1;33m(\u001b[0m\u001b[1;36m1\u001b[0m\u001b[1;33m,\u001b[0m\u001b[1;36m2\u001b[0m\u001b[1;33m,\u001b[0m\u001b[1;36m3\u001b[0m\u001b[1;33m)\u001b[0m\u001b[1;33m,\u001b[0m\u001b[1;33m(\u001b[0m\u001b[1;34m'daga'\u001b[0m\u001b[1;33m,\u001b[0m\u001b[1;36m1\u001b[0m\u001b[1;33m,\u001b[0m\u001b[1;36m2\u001b[0m\u001b[1;33m+\u001b[0m\u001b[1;36m2j\u001b[0m\u001b[1;33m)\u001b[0m\u001b[1;33m,\u001b[0m\u001b[1;33m(\u001b[0m\u001b[1;32mTrue\u001b[0m\u001b[1;33m,\u001b[0m\u001b[1;36m11\u001b[0m\u001b[1;33m)\u001b[0m\u001b[1;33m,\u001b[0m\u001b[1;33m[\u001b[0m\u001b[1;36m5\u001b[0m\u001b[1;33m,\u001b[0m\u001b[1;36m4\u001b[0m\u001b[1;33m,\u001b[0m\u001b[1;36m6\u001b[0m\u001b[1;33m]\u001b[0m\u001b[1;33m,\u001b[0m\u001b[1;33m[\u001b[0m\u001b[1;36m2\u001b[0m\u001b[1;33m,\u001b[0m\u001b[1;36m5\u001b[0m\u001b[1;33m,\u001b[0m\u001b[1;36m6\u001b[0m\u001b[1;33m,\u001b[0m\u001b[1;36m1\u001b[0m\u001b[1;33m,\u001b[0m\u001b[1;36m1\u001b[0m\u001b[1;33m]\u001b[0m\u001b[1;33m)\u001b[0m\u001b[1;33m\u001b[0m\u001b[1;33m\u001b[0m\u001b[0m\n\u001b[0;32m      3\u001b[0m \u001b[1;32mdel\u001b[0m\u001b[1;33m(\u001b[0m\u001b[0mk\u001b[0m\u001b[1;33m)\u001b[0m\u001b[1;33m\u001b[0m\u001b[1;33m\u001b[0m\u001b[0m\n\u001b[1;32m----> 4\u001b[1;33m \u001b[0mprint\u001b[0m\u001b[1;33m(\u001b[0m\u001b[0mk\u001b[0m\u001b[1;33m)\u001b[0m                            \u001b[1;31m# k is deleted\u001b[0m\u001b[1;33m\u001b[0m\u001b[1;33m\u001b[0m\u001b[0m\n\u001b[0m\u001b[0;32m      5\u001b[0m \u001b[0mprint\u001b[0m\u001b[1;33m(\u001b[0m\u001b[0mj\u001b[0m\u001b[1;33m)\u001b[0m\u001b[1;33m\u001b[0m\u001b[1;33m\u001b[0m\u001b[0m\n",
      "\u001b[1;31mNameError\u001b[0m: name 'k' is not defined"
     ]
    }
   ],
   "source": [
    "k = (('ffff',12),(1,2,3),('daga',1,2+2j),(True,11),[5,4,6],[2,5,6,1,1])\n",
    "j = (('ffff',12),(1,2,3),('daga',1,2+2j),(True,11),[5,4,6],[2,5,6,1,1])\n",
    "del(k)                                         \n",
    "print(k)                            # k is deleted\n",
    "print(j)"
   ]
  },
  {
   "cell_type": "markdown",
   "id": "ea453702",
   "metadata": {},
   "source": [
    "# set    denotaion {  }"
   ]
  },
  {
   "cell_type": "markdown",
   "id": "1a747860",
   "metadata": {},
   "source": [
    "__Note: Sets are unordered, so you cannot be sure in which order the items will appear.__\n",
    "__A set is a collection which is unordered, unchangeable*, and unindexed.\n",
    "\n",
    "* Note: Set items are unchangeable, but you can remove items and add new items.__\n",
    "    __Set Items\n",
    "Set items are unordered, unchangeable, and do not allow duplicate values.\n",
    "\n",
    "Unordered\n",
    "Unordered means that the items in a set do not have a defined order.\n",
    "\n",
    "Set items can appear in a different order every time you use them, and cannot be referred to by index or key.__\n"
   ]
  },
  {
   "cell_type": "code",
   "execution_count": null,
   "id": "0a23c7cc",
   "metadata": {},
   "outputs": [],
   "source": []
  },
  {
   "cell_type": "markdown",
   "id": "ae36e151",
   "metadata": {},
   "source": [
    "__a set operation removes all the duplicates unique characters are left__"
   ]
  },
  {
   "cell_type": "code",
   "execution_count": 144,
   "id": "9d6fbce2",
   "metadata": {},
   "outputs": [
    {
     "data": {
      "text/plain": [
       "{11, 22, 'DaGa', 'daga', 'me'}"
      ]
     },
     "execution_count": 144,
     "metadata": {},
     "output_type": "execute_result"
    }
   ],
   "source": [
    "a = [11,22,11,11,22,'daga','daga','DaGa','me']\n",
    "set(a)                      # prints all the unique elements and is case sensitive \n",
    "                            # data normalization is required to convert all in either upper or lower to sence uniqueness"
   ]
  },
  {
   "cell_type": "code",
   "execution_count": 145,
   "id": "d3e80717",
   "metadata": {},
   "outputs": [
    {
     "data": {
      "text/plain": [
       "[11, 22, 11, 11, 22, 'daga', 'daga', 'DaGa', 'me']"
      ]
     },
     "execution_count": 145,
     "metadata": {},
     "output_type": "execute_result"
    }
   ],
   "source": [
    "a                                              #   orinal still have all the element"
   ]
  },
  {
   "cell_type": "markdown",
   "id": "62f57723",
   "metadata": {},
   "source": [
    "__SET DOES NOT ALLOW INDEXING OPERATION__\n"
   ]
  },
  {
   "cell_type": "code",
   "execution_count": 148,
   "id": "bbf82c05",
   "metadata": {},
   "outputs": [
    {
     "ename": "TypeError",
     "evalue": "'set' object is not subscriptable",
     "output_type": "error",
     "traceback": [
      "\u001b[1;31m---------------------------------------------------------------------------\u001b[0m",
      "\u001b[1;31mTypeError\u001b[0m                                 Traceback (most recent call last)",
      "\u001b[1;32m~\\AppData\\Local\\Temp/ipykernel_8536/2331030574.py\u001b[0m in \u001b[0;36m<module>\u001b[1;34m\u001b[0m\n\u001b[0;32m      1\u001b[0m \u001b[0ma\u001b[0m \u001b[1;33m=\u001b[0m \u001b[1;33m[\u001b[0m\u001b[1;36m11\u001b[0m\u001b[1;33m,\u001b[0m\u001b[1;36m22\u001b[0m\u001b[1;33m,\u001b[0m\u001b[1;36m11\u001b[0m\u001b[1;33m,\u001b[0m\u001b[1;36m11\u001b[0m\u001b[1;33m,\u001b[0m\u001b[1;36m22\u001b[0m\u001b[1;33m,\u001b[0m\u001b[1;34m'daga'\u001b[0m\u001b[1;33m,\u001b[0m\u001b[1;34m'daga'\u001b[0m\u001b[1;33m,\u001b[0m\u001b[1;34m'DaGa'\u001b[0m\u001b[1;33m,\u001b[0m\u001b[1;34m'me'\u001b[0m\u001b[1;33m]\u001b[0m\u001b[1;33m\u001b[0m\u001b[1;33m\u001b[0m\u001b[0m\n\u001b[0;32m      2\u001b[0m \u001b[0ms\u001b[0m\u001b[1;33m=\u001b[0m\u001b[0mset\u001b[0m\u001b[1;33m(\u001b[0m\u001b[0ma\u001b[0m\u001b[1;33m)\u001b[0m\u001b[1;33m\u001b[0m\u001b[1;33m\u001b[0m\u001b[0m\n\u001b[1;32m----> 3\u001b[1;33m \u001b[0ms\u001b[0m\u001b[1;33m[\u001b[0m\u001b[1;36m0\u001b[0m\u001b[1;33m]\u001b[0m\u001b[1;33m\u001b[0m\u001b[1;33m\u001b[0m\u001b[0m\n\u001b[0m",
      "\u001b[1;31mTypeError\u001b[0m: 'set' object is not subscriptable"
     ]
    }
   ],
   "source": [
    "a = [11,22,11,11,22,'daga','daga','DaGa','me']\n",
    "s=set(a)\n",
    "s[0]"
   ]
  },
  {
   "cell_type": "markdown",
   "id": "c30082e4",
   "metadata": {},
   "source": [
    "__REST ALL OERATION WORKS__"
   ]
  },
  {
   "cell_type": "code",
   "execution_count": 154,
   "id": "91d60da9",
   "metadata": {},
   "outputs": [
    {
     "name": "stdout",
     "output_type": "stream",
     "text": [
      "me  DaGa  11  daga  22  "
     ]
    }
   ],
   "source": [
    "a = [11,22,11,11,22,'daga','daga','DaGa','me']                   # conversion of list into set\n",
    "s=set(a)\n",
    "for i in s :\n",
    "    print(i,end=\"  \")                                            # set does not give an orderd data"
   ]
  },
  {
   "cell_type": "code",
   "execution_count": 1,
   "id": "91c702ac",
   "metadata": {},
   "outputs": [
    {
     "data": {
      "text/plain": [
       "{11, 22, 'DaGa', 'daga', 'me'}"
      ]
     },
     "execution_count": 1,
     "metadata": {},
     "output_type": "execute_result"
    }
   ],
   "source": [
    "a = [11,22,11,11,22,'daga','daga','DaGa','me']                   # conversion of list into set\n",
    "s=set(a)\n",
    "s"
   ]
  },
  {
   "cell_type": "code",
   "execution_count": 2,
   "id": "7bd06cfd",
   "metadata": {},
   "outputs": [
    {
     "data": {
      "text/plain": [
       "{11, 22, 'DaGa', 'daga', 'me'}"
      ]
     },
     "execution_count": 2,
     "metadata": {},
     "output_type": "execute_result"
    }
   ],
   "source": [
    "a = (11,22,11,11,22,'daga','daga','DaGa','me')\n",
    "s=set(a)                                                        # conversion of tuple into set\n",
    "s\n"
   ]
  },
  {
   "cell_type": "markdown",
   "id": "bec609b5",
   "metadata": {},
   "source": [
    "# Python Collections (Arrays)\n",
    "# There are four collection data types in the Python programming language:\n",
    "\n",
    "# List is a collection which is ordered and changeable. Allows duplicate members.\n",
    "# Tuple is a collection which is ordered and unchangeable. Allows duplicate members.\n",
    "# Set is a collection which is unordered, unchangeable*, and unindexed. No duplicate members.\n",
    "# Dictionary is a collection which is ordered** and changeable. No duplicate members.\n",
    "# *Set items are unchangeable, but you can remove and/or add items whenever you like"
   ]
  },
  {
   "cell_type": "markdown",
   "id": "00e2b322",
   "metadata": {},
   "source": [
    "# dictionary\n"
   ]
  },
  {
   "cell_type": "code",
   "execution_count": 3,
   "id": "72998986",
   "metadata": {},
   "outputs": [
    {
     "data": {
      "text/plain": [
       "dict"
      ]
     },
     "execution_count": 3,
     "metadata": {},
     "output_type": "execute_result"
    }
   ],
   "source": [
    "a = { }             # by default empty curly braces are called dictionary\n",
    "type(a)"
   ]
  },
  {
   "cell_type": "code",
   "execution_count": 5,
   "id": "0365c5b3",
   "metadata": {},
   "outputs": [
    {
     "data": {
      "text/plain": [
       "set"
      ]
     },
     "execution_count": 5,
     "metadata": {},
     "output_type": "execute_result"
    }
   ],
   "source": [
    "b = {1, 'a', 3}    # by default element inside curly braces are set\n",
    "type(b)"
   ]
  },
  {
   "cell_type": "code",
   "execution_count": 6,
   "id": "f7a50116",
   "metadata": {},
   "outputs": [
    {
     "data": {
      "text/plain": [
       "dict"
      ]
     },
     "execution_count": 6,
     "metadata": {},
     "output_type": "execute_result"
    }
   ],
   "source": [
    "c = {\"name\":'deepanshu' ,\"age\": 444}     # this {\"key\": value }  arrangement of data is dictionary\n",
    "type(c)"
   ]
  },
  {
   "cell_type": "code",
   "execution_count": 11,
   "id": "2b8e74fb",
   "metadata": {},
   "outputs": [
    {
     "data": {
      "text/plain": [
       "{'name': 'goku', 'age': 444, 'caste': 'goku', True: 215, 'fff': True, 126: 'd'}"
      ]
     },
     "execution_count": 11,
     "metadata": {},
     "output_type": "execute_result"
    }
   ],
   "source": [
    "# how diff data types are stored and hat are their limitation\n",
    "# key  can not be repeated all keys have to be unique \n",
    "# values coresponding to keys can be duplicate\n",
    "# in output goku as value can be duplicate \n",
    "# but name as key cannot be duplicate thus it pick the name of bigest index\n",
    "\n",
    "\n",
    "c = {\"name\":'deepanshu' ,\"age\": 444 , 'name':'goku', 'caste':\"goku\",True:215,\"fff\":True, 126:'d' } \n",
    "c"
   ]
  },
  {
   "cell_type": "code",
   "execution_count": null,
   "id": "4019ee69",
   "metadata": {},
   "outputs": [],
   "source": [
    "# any data type of VALUE can hold any data TYPE ( LIST , SET , TUPLE , BOOLIAN , STRING , NO ALL POSSIBLE)\n",
    "# BUT key WILL NOT HOLD  ALL LIKE (LIST OR DICTIONARY OR SET are not allowed) \n",
    "# IN SHORT { } AND [ ] ARE NOT ALLOWED IN KEY PART , TUPLES ARE ALLOWED IN KEY PART ALSO."
   ]
  },
  {
   "cell_type": "code",
   "execution_count": 2,
   "id": "b39831ee",
   "metadata": {},
   "outputs": [
    {
     "data": {
      "text/plain": [
       "{'name': {'name': 'deepu'}, 11: (1, 2, 3), True: [1, 's', 12], 'age': 444}"
      ]
     },
     "execution_count": 2,
     "metadata": {},
     "output_type": "execute_result"
    }
   ],
   "source": [
    "a={\"name\":{\"name\":'deepu'},11:(1,2,3),True:[1,'s',12],\"age\": 444}   # valid value part takes all data types\n",
    "a\n"
   ]
  },
  {
   "cell_type": "code",
   "execution_count": 9,
   "id": "0bcec14b",
   "metadata": {},
   "outputs": [
    {
     "data": {
      "text/plain": [
       "{(1, 2, 'aa'): {'name': 'deepu'},\n",
       " 11: (1, 2, 3),\n",
       " True: [1, 's', 12],\n",
       " 'age': 444}"
      ]
     },
     "execution_count": 9,
     "metadata": {},
     "output_type": "execute_result"
    }
   ],
   "source": [
    "a={(1,2,\"aa\"):{\"name\":'deepu'},11:(1,2,3),True:[1,'s',12],\"age\": 444}   # in key set not allowed\n",
    "a"
   ]
  },
  {
   "cell_type": "code",
   "execution_count": 4,
   "id": "097f1b8d",
   "metadata": {},
   "outputs": [
    {
     "ename": "TypeError",
     "evalue": "unhashable type: 'dict'",
     "output_type": "error",
     "traceback": [
      "\u001b[1;31m---------------------------------------------------------------------------\u001b[0m",
      "\u001b[1;31mTypeError\u001b[0m                                 Traceback (most recent call last)",
      "\u001b[1;32m~\\AppData\\Local\\Temp/ipykernel_6672/2504854504.py\u001b[0m in \u001b[0;36m<module>\u001b[1;34m\u001b[0m\n\u001b[1;32m----> 1\u001b[1;33m \u001b[0ma\u001b[0m\u001b[1;33m=\u001b[0m\u001b[1;33m{\u001b[0m\u001b[1;33m{\u001b[0m\u001b[1;34m'name'\u001b[0m\u001b[1;33m:\u001b[0m\u001b[1;36m1\u001b[0m\u001b[1;33m}\u001b[0m\u001b[1;33m:\u001b[0m\u001b[1;33m{\u001b[0m\u001b[1;34m\"name\"\u001b[0m\u001b[1;33m:\u001b[0m\u001b[1;34m'deepu'\u001b[0m\u001b[1;33m}\u001b[0m\u001b[1;33m,\u001b[0m\u001b[1;36m11\u001b[0m\u001b[1;33m:\u001b[0m\u001b[1;33m(\u001b[0m\u001b[1;36m1\u001b[0m\u001b[1;33m,\u001b[0m\u001b[1;36m2\u001b[0m\u001b[1;33m,\u001b[0m\u001b[1;36m3\u001b[0m\u001b[1;33m)\u001b[0m\u001b[1;33m,\u001b[0m\u001b[1;32mTrue\u001b[0m\u001b[1;33m:\u001b[0m\u001b[1;33m[\u001b[0m\u001b[1;36m1\u001b[0m\u001b[1;33m,\u001b[0m\u001b[1;34m's'\u001b[0m\u001b[1;33m,\u001b[0m\u001b[1;36m12\u001b[0m\u001b[1;33m]\u001b[0m\u001b[1;33m,\u001b[0m\u001b[1;34m\"age\"\u001b[0m\u001b[1;33m:\u001b[0m \u001b[1;36m444\u001b[0m\u001b[1;33m}\u001b[0m   \u001b[1;31m# valid value part takes all data types\u001b[0m\u001b[1;33m\u001b[0m\u001b[1;33m\u001b[0m\u001b[0m\n\u001b[0m\u001b[0;32m      2\u001b[0m \u001b[0ma\u001b[0m\u001b[1;33m\u001b[0m\u001b[1;33m\u001b[0m\u001b[0m\n",
      "\u001b[1;31mTypeError\u001b[0m: unhashable type: 'dict'"
     ]
    }
   ],
   "source": [
    "a={{'name':1}:{\"name\":'deepu'},11:(1,2,3),True:[1,'s',12],\"age\": 444}   # in key dic not allowed\n",
    "a"
   ]
  },
  {
   "cell_type": "code",
   "execution_count": 6,
   "id": "d74496d5",
   "metadata": {},
   "outputs": [
    {
     "ename": "TypeError",
     "evalue": "unhashable type: 'list'",
     "output_type": "error",
     "traceback": [
      "\u001b[1;31m---------------------------------------------------------------------------\u001b[0m",
      "\u001b[1;31mTypeError\u001b[0m                                 Traceback (most recent call last)",
      "\u001b[1;32m~\\AppData\\Local\\Temp/ipykernel_6672/3964323247.py\u001b[0m in \u001b[0;36m<module>\u001b[1;34m\u001b[0m\n\u001b[1;32m----> 1\u001b[1;33m \u001b[0ma\u001b[0m\u001b[1;33m=\u001b[0m\u001b[1;33m{\u001b[0m\u001b[1;33m[\u001b[0m\u001b[1;36m1\u001b[0m\u001b[1;33m,\u001b[0m\u001b[1;36m2\u001b[0m\u001b[1;33m]\u001b[0m\u001b[1;33m:\u001b[0m\u001b[1;33m{\u001b[0m\u001b[1;34m\"name\"\u001b[0m\u001b[1;33m:\u001b[0m\u001b[1;34m'deepu'\u001b[0m\u001b[1;33m}\u001b[0m\u001b[1;33m,\u001b[0m\u001b[1;36m11\u001b[0m\u001b[1;33m:\u001b[0m\u001b[1;33m(\u001b[0m\u001b[1;36m1\u001b[0m\u001b[1;33m,\u001b[0m\u001b[1;36m2\u001b[0m\u001b[1;33m,\u001b[0m\u001b[1;36m3\u001b[0m\u001b[1;33m)\u001b[0m\u001b[1;33m,\u001b[0m\u001b[1;32mTrue\u001b[0m\u001b[1;33m:\u001b[0m\u001b[1;33m[\u001b[0m\u001b[1;36m1\u001b[0m\u001b[1;33m,\u001b[0m\u001b[1;34m's'\u001b[0m\u001b[1;33m,\u001b[0m\u001b[1;36m12\u001b[0m\u001b[1;33m]\u001b[0m\u001b[1;33m,\u001b[0m\u001b[1;34m\"age\"\u001b[0m\u001b[1;33m:\u001b[0m \u001b[1;36m444\u001b[0m\u001b[1;33m}\u001b[0m   \u001b[1;31m# in key list not allowed\u001b[0m\u001b[1;33m\u001b[0m\u001b[1;33m\u001b[0m\u001b[0m\n\u001b[0m\u001b[0;32m      2\u001b[0m \u001b[0ma\u001b[0m\u001b[1;33m\u001b[0m\u001b[1;33m\u001b[0m\u001b[0m\n",
      "\u001b[1;31mTypeError\u001b[0m: unhashable type: 'list'"
     ]
    }
   ],
   "source": [
    "a={[1,2]:{\"name\":'deepu'},11:(1,2,3),True:[1,'s',12],\"age\": 444}   # in key list not allowed\n",
    "a"
   ]
  },
  {
   "cell_type": "code",
   "execution_count": 8,
   "id": "b17a4409",
   "metadata": {},
   "outputs": [
    {
     "ename": "TypeError",
     "evalue": "unhashable type: 'set'",
     "output_type": "error",
     "traceback": [
      "\u001b[1;31m---------------------------------------------------------------------------\u001b[0m",
      "\u001b[1;31mTypeError\u001b[0m                                 Traceback (most recent call last)",
      "\u001b[1;32m~\\AppData\\Local\\Temp/ipykernel_6672/794710522.py\u001b[0m in \u001b[0;36m<module>\u001b[1;34m\u001b[0m\n\u001b[1;32m----> 1\u001b[1;33m \u001b[0ma\u001b[0m\u001b[1;33m=\u001b[0m\u001b[1;33m{\u001b[0m\u001b[1;33m{\u001b[0m\u001b[1;36m1\u001b[0m\u001b[1;33m,\u001b[0m\u001b[1;36m2\u001b[0m\u001b[1;33m,\u001b[0m\u001b[1;34m\"aa\"\u001b[0m\u001b[1;33m}\u001b[0m\u001b[1;33m:\u001b[0m\u001b[1;33m{\u001b[0m\u001b[1;34m\"name\"\u001b[0m\u001b[1;33m:\u001b[0m\u001b[1;34m'deepu'\u001b[0m\u001b[1;33m}\u001b[0m\u001b[1;33m,\u001b[0m\u001b[1;36m11\u001b[0m\u001b[1;33m:\u001b[0m\u001b[1;33m(\u001b[0m\u001b[1;36m1\u001b[0m\u001b[1;33m,\u001b[0m\u001b[1;36m2\u001b[0m\u001b[1;33m,\u001b[0m\u001b[1;36m3\u001b[0m\u001b[1;33m)\u001b[0m\u001b[1;33m,\u001b[0m\u001b[1;32mTrue\u001b[0m\u001b[1;33m:\u001b[0m\u001b[1;33m[\u001b[0m\u001b[1;36m1\u001b[0m\u001b[1;33m,\u001b[0m\u001b[1;34m's'\u001b[0m\u001b[1;33m,\u001b[0m\u001b[1;36m12\u001b[0m\u001b[1;33m]\u001b[0m\u001b[1;33m,\u001b[0m\u001b[1;34m\"age\"\u001b[0m\u001b[1;33m:\u001b[0m \u001b[1;36m444\u001b[0m\u001b[1;33m}\u001b[0m   \u001b[1;31m# in key dic not allowed\u001b[0m\u001b[1;33m\u001b[0m\u001b[1;33m\u001b[0m\u001b[0m\n\u001b[0m\u001b[0;32m      2\u001b[0m \u001b[0ma\u001b[0m\u001b[1;33m\u001b[0m\u001b[1;33m\u001b[0m\u001b[0m\n",
      "\u001b[1;31mTypeError\u001b[0m: unhashable type: 'set'"
     ]
    }
   ],
   "source": [
    "a={{1,2,\"aa\"}:{\"name\":'deepu'},11:(1,2,3),True:[1,'s',12],\"age\": 444}   # in key set not allowed\n",
    "a"
   ]
  },
  {
   "cell_type": "markdown",
   "id": "03a7d3d3",
   "metadata": {},
   "source": [
    "# Extract value from dic"
   ]
  },
  {
   "cell_type": "code",
   "execution_count": 13,
   "id": "f4e5725c",
   "metadata": {},
   "outputs": [
    {
     "data": {
      "text/plain": [
       "444"
      ]
     },
     "execution_count": 13,
     "metadata": {},
     "output_type": "execute_result"
    }
   ],
   "source": [
    "a={(1,2,\"aa\"):{\"name\":'deepu'},11:(1,2,3),True:[1,'s',12],\"age\": 444}   \n",
    "a[\"age\"]                                                      #  dic['key'] to extract the corresponding value "
   ]
  },
  {
   "cell_type": "code",
   "execution_count": 1,
   "id": "6e1b56e7",
   "metadata": {},
   "outputs": [
    {
     "data": {
      "text/plain": [
       "{'name': 'deepu'}"
      ]
     },
     "execution_count": 1,
     "metadata": {},
     "output_type": "execute_result"
    }
   ],
   "source": [
    "b={(1,2,\"aa\"):{\"name\":'deepu'},11:(1,2,3),True:[1,'s',12],\"age\": 444}   \n",
    "b[(1,2,\"aa\")] "
   ]
  },
  {
   "cell_type": "code",
   "execution_count": 3,
   "id": "495f3790",
   "metadata": {},
   "outputs": [
    {
     "name": "stdout",
     "output_type": "stream",
     "text": [
      "<class 'list'>\n"
     ]
    },
    {
     "data": {
      "text/plain": [
       "12"
      ]
     },
     "execution_count": 3,
     "metadata": {},
     "output_type": "execute_result"
    }
   ],
   "source": [
    "a={(1,2,\"aa\"):{\"name\":'deepu'},11:(1,2,3),True:[1,'s',12],\"age\": 444}   \n",
    "print(type(a[True]))                   #calling any key by default becomes list\n",
    "a[True][2]"
   ]
  },
  {
   "cell_type": "code",
   "execution_count": 5,
   "id": "78c5a137",
   "metadata": {},
   "outputs": [
    {
     "ename": "TypeError",
     "evalue": "unsupported operand type(s) for +: 'dict' and 'dict'",
     "output_type": "error",
     "traceback": [
      "\u001b[1;31m---------------------------------------------------------------------------\u001b[0m",
      "\u001b[1;31mTypeError\u001b[0m                                 Traceback (most recent call last)",
      "\u001b[1;32m~\\AppData\\Local\\Temp/ipykernel_10048/3843552499.py\u001b[0m in \u001b[0;36m<module>\u001b[1;34m\u001b[0m\n\u001b[0;32m      1\u001b[0m \u001b[0ma\u001b[0m\u001b[1;33m=\u001b[0m\u001b[1;33m{\u001b[0m\u001b[1;33m(\u001b[0m\u001b[1;36m1\u001b[0m\u001b[1;33m,\u001b[0m\u001b[1;36m2\u001b[0m\u001b[1;33m,\u001b[0m\u001b[1;34m\"aa\"\u001b[0m\u001b[1;33m)\u001b[0m\u001b[1;33m:\u001b[0m\u001b[1;33m{\u001b[0m\u001b[1;34m\"name\"\u001b[0m\u001b[1;33m:\u001b[0m\u001b[1;34m'deepu'\u001b[0m\u001b[1;33m}\u001b[0m\u001b[1;33m,\u001b[0m\u001b[1;36m11\u001b[0m\u001b[1;33m:\u001b[0m\u001b[1;33m(\u001b[0m\u001b[1;36m1\u001b[0m\u001b[1;33m,\u001b[0m\u001b[1;36m2\u001b[0m\u001b[1;33m,\u001b[0m\u001b[1;36m3\u001b[0m\u001b[1;33m)\u001b[0m\u001b[1;33m,\u001b[0m\u001b[1;32mTrue\u001b[0m\u001b[1;33m:\u001b[0m\u001b[1;33m[\u001b[0m\u001b[1;36m1\u001b[0m\u001b[1;33m,\u001b[0m\u001b[1;34m's'\u001b[0m\u001b[1;33m,\u001b[0m\u001b[1;36m12\u001b[0m\u001b[1;33m]\u001b[0m\u001b[1;33m,\u001b[0m\u001b[1;34m\"age\"\u001b[0m\u001b[1;33m:\u001b[0m \u001b[1;36m444\u001b[0m\u001b[1;33m}\u001b[0m\u001b[1;33m\u001b[0m\u001b[1;33m\u001b[0m\u001b[0m\n\u001b[0;32m      2\u001b[0m \u001b[0mb\u001b[0m\u001b[1;33m=\u001b[0m\u001b[1;33m{\u001b[0m\u001b[1;33m(\u001b[0m\u001b[1;36m1\u001b[0m\u001b[1;33m,\u001b[0m\u001b[1;36m2\u001b[0m\u001b[1;33m,\u001b[0m\u001b[1;34m\"aa\"\u001b[0m\u001b[1;33m)\u001b[0m\u001b[1;33m:\u001b[0m\u001b[1;33m{\u001b[0m\u001b[1;34m\"name\"\u001b[0m\u001b[1;33m:\u001b[0m\u001b[1;34m'deepu'\u001b[0m\u001b[1;33m}\u001b[0m\u001b[1;33m,\u001b[0m\u001b[1;36m11\u001b[0m\u001b[1;33m:\u001b[0m\u001b[1;33m(\u001b[0m\u001b[1;36m1\u001b[0m\u001b[1;33m,\u001b[0m\u001b[1;36m2\u001b[0m\u001b[1;33m,\u001b[0m\u001b[1;36m3\u001b[0m\u001b[1;33m)\u001b[0m\u001b[1;33m,\u001b[0m\u001b[1;32mTrue\u001b[0m\u001b[1;33m:\u001b[0m\u001b[1;33m[\u001b[0m\u001b[1;36m1\u001b[0m\u001b[1;33m,\u001b[0m\u001b[1;34m's'\u001b[0m\u001b[1;33m,\u001b[0m\u001b[1;36m12\u001b[0m\u001b[1;33m]\u001b[0m\u001b[1;33m,\u001b[0m\u001b[1;34m\"age\"\u001b[0m\u001b[1;33m:\u001b[0m \u001b[1;36m444\u001b[0m\u001b[1;33m}\u001b[0m\u001b[1;33m\u001b[0m\u001b[1;33m\u001b[0m\u001b[0m\n\u001b[1;32m----> 3\u001b[1;33m \u001b[0ma\u001b[0m\u001b[1;33m+\u001b[0m\u001b[0mb\u001b[0m\u001b[1;33m\u001b[0m\u001b[1;33m\u001b[0m\u001b[0m\n\u001b[0m",
      "\u001b[1;31mTypeError\u001b[0m: unsupported operand type(s) for +: 'dict' and 'dict'"
     ]
    }
   ],
   "source": [
    "a={(1,2,\"aa\"):{\"name\":'deepu'},11:(1,2,3),True:[1,'s',12],\"age\": 444} \n",
    "b={(1,2,\"aa\"):{\"name\":'deepu'},11:(1,2,3),True:[1,'s',12],\"age\": 444}     # dictionary does not support + ,-,/ there operands support\n",
    "a+b"
   ]
  },
  {
   "cell_type": "code",
   "execution_count": 6,
   "id": "b04362e9",
   "metadata": {},
   "outputs": [
    {
     "data": {
      "text/plain": [
       "{(1, 2, 'aa'): {'name': 'deepu'}, 11: (1, 2, 3), True: [1, 's', 12], 'age': 5}"
      ]
     },
     "execution_count": 6,
     "metadata": {},
     "output_type": "execute_result"
    }
   ],
   "source": [
    "# assignment of new data to value part is allowed \n",
    "b={(1,2,\"aa\"):{\"name\":'deepu'},11:(1,2,3),True:[1,'s',12],\"age\": 444}   \n",
    "b[\"age\"] = 5\n",
    "b                                # for key = age new value part is assigned "
   ]
  },
  {
   "cell_type": "code",
   "execution_count": 7,
   "id": "f419c4c8",
   "metadata": {},
   "outputs": [
    {
     "data": {
      "text/plain": [
       "dict_keys([(1, 2, 'aa'), 11, True, 'age'])"
      ]
     },
     "execution_count": 7,
     "metadata": {},
     "output_type": "execute_result"
    }
   ],
   "source": [
    "                                  # after dot there are many fx \n",
    "b.keys() "
   ]
  },
  {
   "cell_type": "code",
   "execution_count": 3,
   "id": "43859693",
   "metadata": {},
   "outputs": [
    {
     "name": "stdout",
     "output_type": "stream",
     "text": [
      "(1, 2, 'aa')\n",
      "11\n",
      "True\n",
      "age\n"
     ]
    }
   ],
   "source": [
    "# to acess all keys\n",
    "b={(1, 2, 'aa'):{\"karma\": {'name': 'deepu'}}, 11: (1, 2, 3), True: [1, 's', 12], 'age': 5}\n",
    "for i in b :\n",
    "    print(i)                      # returns all keys of main line  (i ) is just keys"
   ]
  },
  {
   "cell_type": "code",
   "execution_count": 25,
   "id": "a9405815",
   "metadata": {},
   "outputs": [
    {
     "name": "stdout",
     "output_type": "stream",
     "text": [
      "{'karma': {'name': 'deepu'}}\n",
      "(1, 2, 3)\n",
      "[1, 's', 12]\n",
      "5\n"
     ]
    }
   ],
   "source": [
    "                                  # to acess all values correspondind to keys \n",
    "for i in b :\n",
    "    print(b[i])     "
   ]
  },
  {
   "cell_type": "code",
   "execution_count": 26,
   "id": "aefadef2",
   "metadata": {},
   "outputs": [
    {
     "name": "stdout",
     "output_type": "stream",
     "text": [
      "{'karma': {'name': 'deepu'}}\n",
      "(1, 2, 3)\n",
      "[1, 's', 12]\n",
      "5\n"
     ]
    }
   ],
   "source": [
    "for i in b.keys() :               # shows data types of list corresponding to values\n",
    "    print(b[i])"
   ]
  },
  {
   "cell_type": "code",
   "execution_count": 18,
   "id": "c2fd480f",
   "metadata": {},
   "outputs": [
    {
     "name": "stdout",
     "output_type": "stream",
     "text": [
      "<class 'dict'>\n",
      "<class 'tuple'>\n",
      "<class 'list'>\n",
      "<class 'int'>\n"
     ]
    }
   ],
   "source": [
    "for i in b.keys():\n",
    "    print(type(b[i]))             # shows data types of list corresponding to values"
   ]
  },
  {
   "cell_type": "code",
   "execution_count": 20,
   "id": "8322789c",
   "metadata": {},
   "outputs": [
    {
     "data": {
      "text/plain": [
       "dict_items([((1, 2, 'aa'), {'name': 'deepu'}), (11, (1, 2, 3)), (True, [1, 's', 12]), ('age', 5)])"
      ]
     },
     "execution_count": 20,
     "metadata": {},
     "output_type": "execute_result"
    }
   ],
   "source": [
    "b={(1, 2, 'aa'):{\"karma\": {'name': 'deepu'}}, 11: (1, 2, 3), True: [1, 's', 12], 'age': 5}\n",
    "b.items()                         # gives key and value pairs as tuples "
   ]
  },
  {
   "cell_type": "code",
   "execution_count": 4,
   "id": "3e21b3eb",
   "metadata": {},
   "outputs": [
    {
     "name": "stdout",
     "output_type": "stream",
     "text": [
      "((1, 2, 'aa'), {'karma': {'name': 'deepu'}})\n",
      "(11, (1, 2, 3))\n",
      "(True, [1, 's', 12])\n",
      "('age', 5)\n"
     ]
    }
   ],
   "source": [
    "for i in b.items() :\n",
    "    print(i)"
   ]
  },
  {
   "cell_type": "code",
   "execution_count": 6,
   "id": "bb1b4e72",
   "metadata": {},
   "outputs": [
    {
     "name": "stdout",
     "output_type": "stream",
     "text": [
      "(1, 2, 'aa')\n",
      "11\n",
      "True\n",
      "age\n"
     ]
    }
   ],
   "source": [
    "for i in b.items() :              # for all keys\n",
    "    print(i[0])\n"
   ]
  },
  {
   "cell_type": "code",
   "execution_count": 7,
   "id": "8b4348cc",
   "metadata": {},
   "outputs": [
    {
     "name": "stdout",
     "output_type": "stream",
     "text": [
      "{'karma': {'name': 'deepu'}}\n",
      "(1, 2, 3)\n",
      "[1, 's', 12]\n",
      "5\n"
     ]
    }
   ],
   "source": [
    "for i in b.items() :              # for all values\n",
    "    print(i[1])\n"
   ]
  },
  {
   "cell_type": "code",
   "execution_count": 9,
   "id": "30f672cb",
   "metadata": {},
   "outputs": [
    {
     "data": {
      "text/plain": [
       "1"
      ]
     },
     "execution_count": 9,
     "metadata": {},
     "output_type": "execute_result"
    }
   ],
   "source": [
    "b={(1, 2, 'aa'):{\"karma\": {'name': 'deepu'}}, 11: (1, 2, 3), True: [1, 's', 12], 'age': 5}\n",
    "b[11][0]"
   ]
  },
  {
   "cell_type": "code",
   "execution_count": 21,
   "id": "52af3045",
   "metadata": {},
   "outputs": [
    {
     "name": "stdout",
     "output_type": "stream",
     "text": [
      "<class 'set'>\n"
     ]
    },
    {
     "data": {
      "text/plain": [
       "[66, 45, 55]"
      ]
     },
     "execution_count": 21,
     "metadata": {},
     "output_type": "execute_result"
    }
   ],
   "source": [
    "a={56:{55,45,66}}   #to extract 45 = key of 56 a[65] will give value {45,55,66} a set and index is not allowed in set thus\n",
    "print(type(a[56]))\n",
    "(list(a[56]))                     # convert in list and than use index operation"
   ]
  },
  {
   "cell_type": "code",
   "execution_count": 45,
   "id": "0724e759",
   "metadata": {},
   "outputs": [
    {
     "name": "stdout",
     "output_type": "stream",
     "text": [
      "enter the para>>daga is daga\n",
      "{'is', 'daga'}\n",
      "{'is': 'deep', 'daga': 'deep'}\n",
      "tuples  dict_items([('is', 'deep'), ('daga', 'deep')])\n",
      "keys  is\n",
      "keys  daga\n"
     ]
    }
   ],
   "source": [
    "# take input as para as input fx\n",
    "# convert all of this input into list\n",
    "# remove all the duplicate element from the list\n",
    "# use distint as key and assign value as name to all keys\n",
    "# print key value pairs tuple\n",
    "# print the list of all keys\n",
    "\n",
    "\n",
    "data_list = input('enter the para>>')\n",
    "\n",
    "data_list = list(data_list.split(' '))\n",
    "\n",
    "unique_set = set(data_list)\n",
    "\n",
    "print(unique_set)\n",
    "\n",
    "unique_list=list((unique_set))\n",
    "\n",
    "my_dict = {}\n",
    "for i in unique_list :      ## here while asigning deep to value part automatically i = keys gets assigned\n",
    "    my_dict[i] = 'deep'      #dic[i] is used to adress value part\n",
    "   \n",
    "    \n",
    "print(my_dict)\n",
    "\n",
    "\n",
    "\n",
    "print(\"tuples \",my_dict.items())  # items will give tuples\n",
    "\n",
    "for i in my_dict.items():\n",
    "    print(\"keys \",i[0])    # i[0] asigns used to give keys\n",
    "\n",
    " \n",
    "   \n",
    "    \n",
    "    \n",
    "    "
   ]
  },
  {
   "cell_type": "code",
   "execution_count": 50,
   "id": "227cb1d7",
   "metadata": {},
   "outputs": [
    {
     "data": {
      "text/plain": [
       "{1: 'daga', 2: 'daga', 3: 'daga'}"
      ]
     },
     "execution_count": 50,
     "metadata": {},
     "output_type": "execute_result"
    }
   ],
   "source": [
    "s={1,2,3}                    # from keys is a buildin fx to put  same values'  jjj' for every key  \n",
    "a={}\n",
    "a.fromkeys(s,'daga') \n",
    "\n"
   ]
  },
  {
   "cell_type": "code",
   "execution_count": 63,
   "id": "52abd819",
   "metadata": {},
   "outputs": [
    {
     "name": "stdout",
     "output_type": "stream",
     "text": [
      "enter stringdaga is daga\n",
      "{'is', 'daga'}\n",
      "{'is': 'db', 'daga': 'db'}\n",
      "[('is', 'db'), ('daga', 'db')]\n",
      "dict_keys(['is', 'daga'])\n"
     ]
    }
   ],
   "source": [
    "paragph =input ('enter string')\n",
    "lst1=paragph.split(\" \")\n",
    "\n",
    "s1=set(lst1)\n",
    "print(s1)\n",
    "\n",
    "dic1=dict.fromkeys(s1,'db')\n",
    "print(dic1)\n",
    "\n",
    "l2=list(dic1.items())\n",
    "print(l2)\n",
    "\n",
    "t1=dic1.keys()\n",
    "print(t1)\n"
   ]
  },
  {
   "cell_type": "markdown",
   "id": "3c8459d7",
   "metadata": {},
   "source": [
    "# dictionary num : square num"
   ]
  },
  {
   "cell_type": "code",
   "execution_count": 77,
   "id": "3e8cd7ac",
   "metadata": {},
   "outputs": [
    {
     "name": "stdout",
     "output_type": "stream",
     "text": [
      "{1: 1, 2: 4, 3: 9, 4: 16, 5: 25}\n"
     ]
    }
   ],
   "source": [
    "num = {}\n",
    "for i in range(1,6):\n",
    "    num[i]=i*i\n",
    "print(num)    "
   ]
  },
  {
   "cell_type": "markdown",
   "id": "311a02ed",
   "metadata": {},
   "source": [
    "__comprehensive way__"
   ]
  },
  {
   "cell_type": "code",
   "execution_count": 76,
   "id": "8eb3e589",
   "metadata": {},
   "outputs": [
    {
     "data": {
      "text/plain": [
       "{1: 1, 2: 4, 3: 9, 4: 16, 5: 25}"
      ]
     },
     "execution_count": 76,
     "metadata": {},
     "output_type": "execute_result"
    }
   ],
   "source": [
    "{num:num*num for num in range(1,6)}"
   ]
  },
  {
   "cell_type": "code",
   "execution_count": 79,
   "id": "75e0aea2",
   "metadata": {},
   "outputs": [
    {
     "data": {
      "text/plain": [
       "{0: 0, 3: 9, 6: 36, 9: 81}"
      ]
     },
     "execution_count": 79,
     "metadata": {},
     "output_type": "execute_result"
    }
   ],
   "source": [
    "# for all multiples of 3 nos \n",
    "{i:i*i for i in range(0,10,3)}"
   ]
  },
  {
   "cell_type": "code",
   "execution_count": 70,
   "id": "e491dc1a",
   "metadata": {},
   "outputs": [
    {
     "name": "stdout",
     "output_type": "stream",
     "text": [
      "key == (1, 2, 'aa')      value ==  {'karma': {'name': 'deepu'}}\n",
      "key == 11      value ==  (1, 2, 3)\n",
      "key == True      value ==  [1, 's', 12]\n",
      "key == age      value ==  5\n"
     ]
    }
   ],
   "source": [
    "# in a loop i = key and b[i] = value\n",
    "\n",
    "b={(1, 2, 'aa'):{\"karma\": {'name': 'deepu'}}, 11: (1, 2, 3), True: [1, 's', 12], 'age': 5}\n",
    "for i in b :\n",
    "    print('key ==', i ,'    ', 'value == ',b[i])    "
   ]
  },
  {
   "cell_type": "code",
   "execution_count": 74,
   "id": "0fdcbddf",
   "metadata": {},
   "outputs": [
    {
     "name": "stdout",
     "output_type": "stream",
     "text": [
      "value is updated\n"
     ]
    },
    {
     "data": {
      "text/plain": [
       "{'company': 'ineuron', 'course': 'full stack data science', 'year': 2022}"
      ]
     },
     "execution_count": 74,
     "metadata": {},
     "output_type": "execute_result"
    }
   ],
   "source": [
    "d ={\"company\":\"ineuron\" ,\"course\": \"full stack data science\" , \"year\" : 2022}\n",
    "for i in d :\n",
    "    if i == 'year':\n",
    "        if d[i] > 2021 :\n",
    "            print('value is updated')\n",
    "        else :\n",
    "            d[i] = 2022\n",
    "            print('recently updated')\n",
    "d"
   ]
  },
  {
   "cell_type": "code",
   "execution_count": null,
   "id": "435bdb83",
   "metadata": {},
   "outputs": [],
   "source": []
  }
 ],
 "metadata": {
  "kernelspec": {
   "display_name": "Python 3 (ipykernel)",
   "language": "python",
   "name": "python3"
  },
  "language_info": {
   "codemirror_mode": {
    "name": "ipython",
    "version": 3
   },
   "file_extension": ".py",
   "mimetype": "text/x-python",
   "name": "python",
   "nbconvert_exporter": "python",
   "pygments_lexer": "ipython3",
   "version": "3.9.7"
  }
 },
 "nbformat": 4,
 "nbformat_minor": 5
}
