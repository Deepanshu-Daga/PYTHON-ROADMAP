{
 "cells": [
  {
   "cell_type": "code",
   "execution_count": 2,
   "id": "4e0adab8",
   "metadata": {},
   "outputs": [
    {
     "name": "stdout",
     "output_type": "stream",
     "text": [
      "m\n",
      "y\n",
      " \n",
      "n\n",
      "a\n",
      "m\n",
      "e\n",
      " \n",
      "i\n",
      "s\n",
      " \n",
      "d\n",
      "e\n",
      "e\n",
      "p\n",
      "a\n",
      "n\n",
      "s\n",
      "h\n",
      "u\n"
     ]
    }
   ],
   "source": [
    "a = \"my name is deepanshu\"\n",
    "for i in a :\n",
    "    print(i)"
   ]
  },
  {
   "cell_type": "code",
   "execution_count": 10,
   "id": "e9be5c81",
   "metadata": {},
   "outputs": [
    {
     "name": "stdout",
     "output_type": "stream",
     "text": [
      "m\n",
      "y\n",
      " \n",
      "n\n",
      "a\n",
      "m\n",
      "e\n",
      " \n",
      "i\n",
      "s\n",
      " \n",
      "d\n",
      "e\n",
      "e\n",
      "p\n",
      "a\n",
      "n\n",
      "s\n",
      "h\n",
      "u\n",
      "this is else condition\n"
     ]
    }
   ],
   "source": [
    "a = \"my name is deepanshu\"                 # else executes when for loop exhaust\n",
    "for i in a :\n",
    "    print(i)\n",
    "else :\n",
    "    print('this is else condition')"
   ]
  },
  {
   "cell_type": "code",
   "execution_count": 11,
   "id": "bd13ff68",
   "metadata": {
    "scrolled": true
   },
   "outputs": [
    {
     "name": "stdout",
     "output_type": "stream",
     "text": [
      "no\n",
      "no\n",
      "no\n",
      "no\n",
      " found \n",
      "l\n",
      " found \n",
      "l\n",
      "no\n",
      "no\n",
      "no\n",
      "no\n",
      "no\n",
      "no\n",
      "no\n",
      "no\n"
     ]
    }
   ],
   "source": [
    "a = \"i will be rich\"                        #if else in for loop\n",
    "for i in a :\n",
    "    if i == \"l\":\n",
    "        print(' found ')\n",
    "        print(i)\n",
    "    else :\n",
    "        print(\"no\")"
   ]
  },
  {
   "cell_type": "code",
   "execution_count": 2,
   "id": "9ddedd66",
   "metadata": {},
   "outputs": [
    {
     "name": "stdout",
     "output_type": "stream",
     "text": [
      "K\n",
      "no\n"
     ]
    }
   ],
   "source": [
    "a = \"i wiKl be rich\"                        #if else in for loop\n",
    "for i in a :                                # here  if else is outside for loop (see indentation) thus after all for \n",
    "    if i == \"K\":                            # loop ends else should execute.\n",
    "        print(i)                            # but since break in for loop breaks the loop \n",
    "        break                               # but since break in for loop breaks the loop \n",
    "                                            # both this and next codeare same but output diff\n",
    "if i != 'K':                                #FIRST FOR LOOP COMPLETES THAN NEXT IF SINCE IF IS OUTSIDE \n",
    "    print('0')\n",
    "else :\n",
    "    print(\"no\")"
   ]
  },
  {
   "cell_type": "code",
   "execution_count": 3,
   "id": "f2822de2",
   "metadata": {},
   "outputs": [
    {
     "name": "stdout",
     "output_type": "stream",
     "text": [
      "0\n",
      "0\n",
      "0\n",
      "0\n",
      "K\n"
     ]
    }
   ],
   "source": [
    "a = \"i wiKl be rich\"                        #if else in for loop\n",
    "for i in a :                                # here if else is a part of for loop indentation matters a lot\n",
    "    if i == \"K\":\n",
    "        print(i)\n",
    "        break\n",
    "        \n",
    "    if i!='K':\n",
    "        print('0')    \n",
    "    else :\n",
    "        print(\"no\")"
   ]
  },
  {
   "cell_type": "markdown",
   "id": "a4a7ac85",
   "metadata": {},
   "source": [
    "SPECIAL CONDITIONS FOR ONLY FOR ELSE LOOPS SUCH CONDITION IS NOT VALID IN IF ELSE\n",
    "\n",
    "IN FOR ELSE CASE ELSE WILL EXECUTE ONLY WHEN FOR LOOP COMPLETELY EXECUTES WITHOUT BREAK"
   ]
  },
  {
   "cell_type": "code",
   "execution_count": 11,
   "id": "a9139c70",
   "metadata": {},
   "outputs": [
    {
     "name": "stdout",
     "output_type": "stream",
     "text": [
      "K\n",
      "no\n"
     ]
    }
   ],
   "source": [
    "a = \"i wiKl be rich\"                        #if else in for loop\n",
    "for i in a :                                # here if else is a part of for loop indentation matters a lot\n",
    "    if i == \"K\":\n",
    "        print(i)                            # here print is outside first if loop and inside for loop\n",
    "else :                       \n",
    "    print(\"no\")                              #IF FOR LOOP COMPLETES THAN ELSE WILL EXECUTE"
   ]
  },
  {
   "cell_type": "code",
   "execution_count": 14,
   "id": "a303c837",
   "metadata": {},
   "outputs": [
    {
     "name": "stdout",
     "output_type": "stream",
     "text": [
      "K\n"
     ]
    }
   ],
   "source": [
    "a = \"i wiKl be rich\"                        #if else in for loop\n",
    "for i in a :                                # here if else is a part of for loop indentation matters a lot\n",
    "    if i == \"K\":\n",
    "        print(i)\n",
    "        break                               # here print is outside first if loop and inside for loop\n",
    "else :                       \n",
    "    print(\"no\")                            # IF FOR LOOP BREAKS THAN ELSE LOOP AFTER IT WILL NOT EXECUTE"
   ]
  },
  {
   "cell_type": "code",
   "execution_count": 15,
   "id": "c19ffa2e",
   "metadata": {},
   "outputs": [
    {
     "name": "stdout",
     "output_type": "stream",
     "text": [
      "i\n",
      " \n",
      "a\n",
      " \n",
      "d\n",
      "a\n",
      "g\n",
      "a\n",
      "no\n"
     ]
    }
   ],
   "source": [
    "a = 'i am daga'\n",
    "for i in a :                              \n",
    "    if i == 'm':\n",
    "        continue                         # continue transfers the control to for loop imidiatly for next iteration and\n",
    "    print(i)                             # and whatever after continue will not be executed\n",
    "else :\n",
    "    print('no')                            # here for loop comletes thus it executes else statement"
   ]
  },
  {
   "cell_type": "code",
   "execution_count": 20,
   "id": "a350e2f6",
   "metadata": {},
   "outputs": [
    {
     "name": "stdout",
     "output_type": "stream",
     "text": [
      "ieuro\n"
     ]
    }
   ],
   "source": [
    "# in \"ineuron\" try to remove all the and give output\n",
    "a = \"ineuron\"\n",
    "ss = \"\"\n",
    "for i in a :\n",
    "    if i == 'n' :\n",
    "        continue\n",
    "    else :\n",
    "        ss = ss + i\n",
    "print(ss)        "
   ]
  },
  {
   "cell_type": "markdown",
   "id": "8f5015d8",
   "metadata": {},
   "source": [
    "NESTED FOR LOOP"
   ]
  },
  {
   "cell_type": "code",
   "execution_count": 31,
   "id": "dc466bc8",
   "metadata": {},
   "outputs": [
    {
     "name": "stdout",
     "output_type": "stream",
     "text": [
      "+   +   +   +   +   +   +   +   +   +   \r\n"
     ]
    }
   ],
   "source": [
    "a = 4\n",
    "for i in range(0,a) :\n",
    "    for j in range(0,i+1) :\n",
    "        print('+',end = \"   \")\n",
    "print(\"\\r\")                                         # here after pring gap is 2 spaces defined after every print"
   ]
  },
  {
   "cell_type": "code",
   "execution_count": 33,
   "id": "215afee6",
   "metadata": {},
   "outputs": [
    {
     "name": "stdout",
     "output_type": "stream",
     "text": [
      "++++++++++\r\n"
     ]
    }
   ],
   "source": [
    "a = 4\n",
    "for i in range(0,a) :\n",
    "    for j in range(0,i+1) :                          \n",
    "        print('+',end = \"\")                          # here new line default is repalced by no blank makes no gap in characters\n",
    "print('\\r')                                          # print('\\r') is new line "
   ]
  },
  {
   "cell_type": "code",
   "execution_count": 13,
   "id": "4dad6dbb",
   "metadata": {},
   "outputs": [
    {
     "name": "stdout",
     "output_type": "stream",
     "text": [
      "+  \r\n",
      "+  \r\n",
      "+  \r\n",
      "+  \r\n",
      "+  \r\n",
      "+  \r\n",
      "+  \r\n",
      "+  \r\n",
      "+  \r\n",
      "+  \r\n"
     ]
    }
   ],
   "source": [
    "a = 4\n",
    "for i in range(0,a) :\n",
    "    for j in range(0,i+1) :                            # here print('\\r') is part of j loop\n",
    "        print('+',end = '  ')                           # by default print(value , end = ' /n') new line after print \n",
    "        print('\\r')"
   ]
  },
  {
   "cell_type": "code",
   "execution_count": 11,
   "id": "772e4544",
   "metadata": {},
   "outputs": [
    {
     "name": "stdout",
     "output_type": "stream",
     "text": [
      "+   +   +   +   +   +   +   +   +   +   +   +   +   +   \r\n"
     ]
    }
   ],
   "source": [
    "for i in range(0,4) :                     # same code last print command indentation effect\n",
    "    print('+',end = \"   \")\n",
    "    for j in range(0,i+1) :               # same code last print command indentation effect\n",
    "        print('+',end = \"   \")           # by default print(value , end = ' /n') new line after print here new line command removed\n",
    "print('\\r')                               # here print('\\r') is out of both the loops thus executes when both loops are done"
   ]
  },
  {
   "cell_type": "code",
   "execution_count": 12,
   "id": "588386ba",
   "metadata": {},
   "outputs": [
    {
     "name": "stdout",
     "output_type": "stream",
     "text": [
      "+   \r\n",
      "+   +   \r\n",
      "+   +   +   \r\n",
      "+   +   +   +   \r\n"
     ]
    }
   ],
   "source": [
    "a = 4\n",
    "for i in range(0,a) :\n",
    "    for j in range(0,i+1) :                             # same code last print command indentation effect\n",
    "        print('+',end = \"   \")                      \n",
    "    print('\\r')                                          # here print('\\r') is part of i loop"
   ]
  },
  {
   "cell_type": "code",
   "execution_count": 30,
   "id": "1bbbb212",
   "metadata": {},
   "outputs": [
    {
     "name": "stdout",
     "output_type": "stream",
     "text": [
      "+\n",
      "+   +\n",
      "+   +   +\n",
      "+   +   +   +\n"
     ]
    }
   ],
   "source": [
    "a = 4\n",
    "for i in range(0,a) :                               \n",
    "    for j in range(0,i) :                             # same code last print command indentation effect\n",
    "        print('+',end = \"   \")                      \n",
    "    print('+') "
   ]
  },
  {
   "cell_type": "markdown",
   "id": "21eddcd7",
   "metadata": {},
   "source": [
    "pyramid"
   ]
  },
  {
   "cell_type": "markdown",
   "id": "04a39b01",
   "metadata": {},
   "source": [
    "https://www.youtube.com/watch?v=EHA53-05510&list=PL9ATnizYJ7f_yC9NJhwSaxIPX2atejZ3Q&index=8"
   ]
  },
  {
   "cell_type": "code",
   "execution_count": 118,
   "id": "a6eba646",
   "metadata": {},
   "outputs": [
    {
     "name": "stdout",
     "output_type": "stream",
     "text": [
      "+\n",
      "+   +\n",
      "+   +   +\n",
      "+   +   +   +\n"
     ]
    }
   ],
   "source": [
    "a = 4\n",
    "for i in range(0,a) :\n",
    "    for j in range(0,a) :      # second loop displaces output in x direction\n",
    "        print('',end ='')\n",
    "    for k in range(0,i) :                             # same code last print command indentation effect\n",
    "        print('+',end = \"   \")\n",
    "    print('+')    \n",
    "       "
   ]
  },
  {
   "cell_type": "code",
   "execution_count": 46,
   "id": "256dda64",
   "metadata": {},
   "outputs": [
    {
     "name": "stdout",
     "output_type": "stream",
     "text": [
      "    +\n",
      "  +   +\n",
      "+   +   +\n",
      "+   +   +   +\n"
     ]
    }
   ],
   "source": [
    "a = 4\n",
    "for i in range(0,a) :\n",
    "    for j in range(0,a-i-2) :      # second loop displaces output in x direction\n",
    "        print(' ',end =' ')\n",
    "    for k in range(0,i) :                             # same code last print command indentation effect\n",
    "        print('+',end = \"   \")\n",
    "    print('+')    \n",
    "       "
   ]
  },
  {
   "cell_type": "code",
   "execution_count": 123,
   "id": "2f001a96",
   "metadata": {},
   "outputs": [
    {
     "name": "stdout",
     "output_type": "stream",
     "text": [
      "        +\n",
      "      + +\n",
      "    + + +\n",
      "  + + + +\n"
     ]
    }
   ],
   "source": [
    "a = 4\n",
    "for i in range(0,a) :              #1st loop controls no of rows\n",
    "    for j in range(0,a-i) :        #2st loop controls places in single row  (second loop displaces entire output in x direction)\n",
    "        print('',end ='  ')        # space in 2nd loop controls spacing before prints in individual lines\n",
    "    for k in range(0,i) :          #  this loop is por print purpose           # half triangle\n",
    "        print('+',end = \" \")       # space in also works as second loop controls spacing between + in every line\n",
    "    print('+')    \n",
    "       "
   ]
  },
  {
   "cell_type": "markdown",
   "id": "31ed54a9",
   "metadata": {},
   "source": [
    "__for triangle 1,3,5 etc__"
   ]
  },
  {
   "cell_type": "code",
   "execution_count": 68,
   "id": "d62815a7",
   "metadata": {},
   "outputs": [
    {
     "name": "stdout",
     "output_type": "stream",
     "text": [
      "        +\n",
      "      + + +\n",
      "    + + + + +\n",
      "  + + + + + + +\n"
     ]
    }
   ],
   "source": [
    "a = 4\n",
    "for i in range(0,a) :\n",
    "    for j in range(0,a-i) :         \n",
    "        print(' ',end =' ')       \n",
    "    for k in range(0,2*i) :        # full triangle\n",
    "        print('+',end = \" \")      \n",
    "    print('+')    \n",
    "        \n",
    "       "
   ]
  },
  {
   "cell_type": "markdown",
   "id": "43a67ba9",
   "metadata": {},
   "source": [
    "__for triangle 1,2,3,4__"
   ]
  },
  {
   "cell_type": "code",
   "execution_count": 135,
   "id": "89b9b0fa",
   "metadata": {},
   "outputs": [
    {
     "name": "stdout",
     "output_type": "stream",
     "text": [
      "     +\n",
      "    + +\n",
      "   + + +\n",
      "  + + + +\n",
      " + + + + +\n"
     ]
    }
   ],
   "source": [
    "a = 5\n",
    "for i in range(0,a) :\n",
    "    for j in range(0,a-i) :\n",
    "        print(\"\",end = \" \")\n",
    "    for k in range(0,i) :\n",
    "        print(\"+\",end=\" \")\n",
    "    print(\"+\")    \n",
    "    \n",
    "    "
   ]
  },
  {
   "cell_type": "code",
   "execution_count": 4,
   "id": "f1206725",
   "metadata": {},
   "outputs": [
    {
     "name": "stdout",
     "output_type": "stream",
     "text": [
      "+   +   +   +   +   +\n",
      "  +   +   +   +   +\n",
      "    +   +   +   +\n",
      "      +   +   +\n",
      "        +   +\n",
      "          +\n"
     ]
    }
   ],
   "source": [
    "a = 6  #int(input('size of inverted'))\n",
    "for i in range(0,a):\n",
    "    for k in range(0,i):\n",
    "        print(\"\",end=\"  \")\n",
    "    for j in range(0,a-i-1):\n",
    "        print('+',end=\"   \")\n",
    "    print(\"+\")\n",
    "          "
   ]
  },
  {
   "cell_type": "markdown",
   "id": "d12f94a2",
   "metadata": {},
   "source": [
    "\n"
   ]
  },
  {
   "cell_type": "markdown",
   "id": "36b4a9da",
   "metadata": {},
   "source": [
    "\n",
    "__next 2 are class codes__"
   ]
  },
  {
   "cell_type": "code",
   "execution_count": 21,
   "id": "17e36ed8",
   "metadata": {},
   "outputs": [
    {
     "name": "stdout",
     "output_type": "stream",
     "text": [
      "        * * * * * * \n",
      "         * * * * * \n",
      "          * * * * \n",
      "           * * * \n",
      "            * * \n",
      "             * \n"
     ]
    }
   ],
   "source": [
    "num = 5\n",
    "m = 2 * num - 2\n",
    "for i in range(num, -1, -1):\n",
    "    for j in range(m, 0, -1):\n",
    "        print(end=\" \")\n",
    "    m = m + 1\n",
    "    for j in range(0, i + 1):\n",
    "        print(\"*\", end=\" \")\n",
    "    print(\"\")"
   ]
  },
  {
   "cell_type": "code",
   "execution_count": 22,
   "id": "fa48282e",
   "metadata": {},
   "outputs": [
    {
     "name": "stdout",
     "output_type": "stream",
     "text": [
      "*********\n",
      " *******\n",
      "  *****\n",
      "   ***\n",
      "    *\n"
     ]
    }
   ],
   "source": [
    "n =  5 # int(input('Enter number of rows required: '))\n",
    "\n",
    "for i in range(n,0,-1):\n",
    "    for j in range(n-i):\n",
    "        print(' ', end='') \n",
    "    \n",
    "    for j in range(2*i-1):\n",
    "        print('*',end='') \n",
    "    print()\n"
   ]
  },
  {
   "cell_type": "code",
   "execution_count": 73,
   "id": "5ad7d811",
   "metadata": {},
   "outputs": [
    {
     "name": "stdout",
     "output_type": "stream",
     "text": [
      "* * * * * * * * \n",
      " * * * * * * * \n",
      "  * * * * * * \n",
      "   * * * * * \n",
      "    * * * * \n",
      "     * * * \n",
      "      * * \n",
      "       * \n",
      "        \n",
      "       * \n",
      "      * * \n",
      "     * * * \n",
      "    * * * * \n",
      "   * * * * * \n",
      "  * * * * * * \n",
      " * * * * * * * \n"
     ]
    }
   ],
   "source": [
    "a = 8\n",
    "b = 8\n",
    "for i in range(a):\n",
    "    print(' '*(8-a)+('* '*a))\n",
    "    a=a-1\n",
    "for i in range(b):\n",
    "    print(' '*(b)+('* '*(8-b)))\n",
    "    b=b-1    "
   ]
  },
  {
   "cell_type": "markdown",
   "id": "10e9cb35",
   "metadata": {},
   "source": [
    "__using while loop__"
   ]
  },
  {
   "cell_type": "code",
   "execution_count": 36,
   "id": "2af0d024",
   "metadata": {},
   "outputs": [
    {
     "name": "stdout",
     "output_type": "stream",
     "text": [
      "* * * * * * * * * \n",
      " * * * * * * * * \n",
      "  * * * * * * * \n",
      "   * * * * * * \n",
      "    * * * * * \n",
      "     * * * * \n",
      "      * * * \n",
      "       * * \n",
      "        * \n"
     ]
    }
   ],
   "source": [
    "i = 0\n",
    "j = 9\n",
    "while i<j:\n",
    "    print(' '*(9-j)+(\"* \"*(j)))   # difference one space can create in output of almost same code\n",
    "    j=j-1\n",
    "          "
   ]
  },
  {
   "cell_type": "code",
   "execution_count": 75,
   "id": "f2ba8b83",
   "metadata": {},
   "outputs": [
    {
     "name": "stdout",
     "output_type": "stream",
     "text": [
      "*********\n",
      " ********\n",
      "  *******\n",
      "   ******\n",
      "    *****\n",
      "     ****\n",
      "      ***\n",
      "       **\n",
      "        *\n"
     ]
    }
   ],
   "source": [
    "i = 0\n",
    "j = 9\n",
    "while i<j:\n",
    "    print(' '*(9-j)+(\"*\"*(j))) \n",
    "    j=j-1"
   ]
  },
  {
   "cell_type": "code",
   "execution_count": 80,
   "id": "f37ceb15",
   "metadata": {},
   "outputs": [
    {
     "name": "stdout",
     "output_type": "stream",
     "text": [
      "<class 'str'>\n",
      "<class 'int'>\n",
      "<class 'list'>\n",
      "<class 'complex'>\n",
      "<class 'float'>\n"
     ]
    }
   ],
   "source": [
    "a = [ 'daga' , 25523 , [1,2,'ddd',4],5+6j,520.22555]\n",
    "for i in a :\n",
    "    print(type(i))\n",
    "    "
   ]
  },
  {
   "cell_type": "code",
   "execution_count": 96,
   "id": "d6fb43cf",
   "metadata": {},
   "outputs": [
    {
     "name": "stdout",
     "output_type": "stream",
     "text": [
      "1\n",
      "2\n",
      "ddd\n",
      "4\n"
     ]
    }
   ],
   "source": [
    "a = [ 'daga' , 25523 , [1,2,'ddd',4],5+6j,520.22555]\n",
    "for i in a :\n",
    "    if type(i) == list :\n",
    "        for j in i :\n",
    "            print(j)"
   ]
  },
  {
   "cell_type": "code",
   "execution_count": 98,
   "id": "8e8f6049",
   "metadata": {},
   "outputs": [
    {
     "name": "stdout",
     "output_type": "stream",
     "text": [
      "10\n"
     ]
    }
   ],
   "source": [
    "# add all the elements of only all the list that is already inside parent list\n",
    "\n",
    "a = [ 'daga' , [1,2],2533 , [1,2,'ddd',4],5+6j,520.22555]\n",
    "n = 0\n",
    "for i in a :\n",
    "\n",
    "    if type(i) == list:\n",
    "        for j in i :\n",
    "            if type(j)== int:\n",
    "                n=n+j\n",
    "print(n)                \n",
    "    "
   ]
  },
  {
   "cell_type": "code",
   "execution_count": 103,
   "id": "02bcfc3b",
   "metadata": {},
   "outputs": [
    {
     "data": {
      "text/plain": [
       "['daga', 25523, [1, 2, 'ddd', 4], (5+6j)]"
      ]
     },
     "execution_count": 103,
     "metadata": {},
     "output_type": "execute_result"
    }
   ],
   "source": [
    "a = [ 'daga' , 25523 , [1,2,'ddd',4],5+6j,520.22555]\n",
    "a[0:4]"
   ]
  },
  {
   "cell_type": "code",
   "execution_count": 104,
   "id": "ca798f1c",
   "metadata": {},
   "outputs": [
    {
     "data": {
      "text/plain": [
       "['daga', (5+6j)]"
      ]
     },
     "execution_count": 104,
     "metadata": {},
     "output_type": "execute_result"
    }
   ],
   "source": [
    "a = [ 'daga' , 25523 , [1,2,'ddd',4],5+6j,520.22555]\n",
    "a[0:4:3]"
   ]
  },
  {
   "cell_type": "code",
   "execution_count": 110,
   "id": "52cbe335",
   "metadata": {},
   "outputs": [
    {
     "data": {
      "text/plain": [
       "[]"
      ]
     },
     "execution_count": 110,
     "metadata": {},
     "output_type": "execute_result"
    }
   ],
   "source": [
    "a = [ 'daga' , 25523 , [1,2,'ddd',4],5+6j,520.22555]\n",
    "a[8:2:1]"
   ]
  },
  {
   "cell_type": "code",
   "execution_count": 111,
   "id": "f82949f5",
   "metadata": {},
   "outputs": [
    {
     "data": {
      "text/plain": [
       "[520.22555, (5+6j)]"
      ]
     },
     "execution_count": 111,
     "metadata": {},
     "output_type": "execute_result"
    }
   ],
   "source": [
    "a = [ 'daga' , 25523 , [1,2,'ddd',4],5+6j,520.22555]\n",
    "a[8:2:-1]"
   ]
  },
  {
   "cell_type": "code",
   "execution_count": 112,
   "id": "01e90c22",
   "metadata": {},
   "outputs": [
    {
     "name": "stdout",
     "output_type": "stream",
     "text": [
      "4\n",
      "5\n",
      "6\n",
      "7\n",
      "8\n",
      "9\n"
     ]
    }
   ],
   "source": [
    "for i in range(4,10):\n",
    "    print(i)"
   ]
  },
  {
   "cell_type": "markdown",
   "id": "96927481",
   "metadata": {},
   "source": [
    "__using list for same__"
   ]
  },
  {
   "cell_type": "code",
   "execution_count": 123,
   "id": "329cc2f6",
   "metadata": {},
   "outputs": [
    {
     "data": {
      "text/plain": [
       "[4, 5, 6, 7, 8, 9]"
      ]
     },
     "execution_count": 123,
     "metadata": {},
     "output_type": "execute_result"
    }
   ],
   "source": [
    "lt = list(range(4,10))    # list is a predefined fx ans thus () and not []   all its items are in []\n",
    "lt\n"
   ]
  },
  {
   "cell_type": "code",
   "execution_count": null,
   "id": "cb8b9ab9",
   "metadata": {},
   "outputs": [],
   "source": []
  },
  {
   "cell_type": "code",
   "execution_count": null,
   "id": "f53bb291",
   "metadata": {},
   "outputs": [],
   "source": []
  }
 ],
 "metadata": {
  "kernelspec": {
   "display_name": "Python 3 (ipykernel)",
   "language": "python",
   "name": "python3"
  },
  "language_info": {
   "codemirror_mode": {
    "name": "ipython",
    "version": 3
   },
   "file_extension": ".py",
   "mimetype": "text/x-python",
   "name": "python",
   "nbconvert_exporter": "python",
   "pygments_lexer": "ipython3",
   "version": "3.9.7"
  }
 },
 "nbformat": 4,
 "nbformat_minor": 5
}
