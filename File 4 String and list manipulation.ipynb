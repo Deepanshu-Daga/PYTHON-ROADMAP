{
 "cells": [
  {
   "cell_type": "code",
   "execution_count": 7,
   "id": "2abbaaaa",
   "metadata": {},
   "outputs": [
    {
     "name": "stdout",
     "output_type": "stream",
     "text": [
      " \n",
      "d\n",
      "a\n",
      "g\n",
      "a\n",
      " \n",
      "i\n",
      "s\n",
      " \n",
      "a\n",
      " \n",
      "s\n",
      "c\n",
      "i\n",
      "e\n",
      "n\n",
      "t\n",
      "i\n",
      "s\n",
      "t\n"
     ]
    }
   ],
   "source": [
    "a = \" daga is a scientist\"\n",
    "for i in range(len(a)) :\n",
    "    print(a[i])"
   ]
  },
  {
   "cell_type": "code",
   "execution_count": 8,
   "id": "f2edfd44",
   "metadata": {},
   "outputs": [
    {
     "data": {
      "text/plain": [
       "'tsitneics a si agad '"
      ]
     },
     "execution_count": 8,
     "metadata": {},
     "output_type": "execute_result"
    }
   ],
   "source": [
    "a[::-1]                             # reverse order"
   ]
  },
  {
   "cell_type": "markdown",
   "id": "662b04cc",
   "metadata": {},
   "source": [
    "__Strings cannot be changed once defined for that perticular ram address (string not mutable)__                         \n",
    "                                              __but list can be chnaged(string mutable)__"
   ]
  },
  {
   "cell_type": "code",
   "execution_count": 13,
   "id": "1f2bc24d",
   "metadata": {},
   "outputs": [
    {
     "data": {
      "text/plain": [
       "['aaa', 'ppp', 'kkkk', 'hhhh']"
      ]
     },
     "execution_count": 13,
     "metadata": {},
     "output_type": "execute_result"
    }
   ],
   "source": [
    "a = 'daga is scientist'                             #individual elemts of a strings can not be changed for same ram adress(immutable) \n",
    "b = ['aaa','ppp','kkkk','hhhh']                     #although entire string can be changed.       \n"
   ]
  },
  {
   "cell_type": "code",
   "execution_count": 15,
   "id": "d8e3d909",
   "metadata": {
    "scrolled": true
   },
   "outputs": [
    {
     "ename": "TypeError",
     "evalue": "'str' object does not support item assignment",
     "output_type": "error",
     "traceback": [
      "\u001b[1;31m---------------------------------------------------------------------------\u001b[0m",
      "\u001b[1;31mTypeError\u001b[0m                                 Traceback (most recent call last)",
      "\u001b[1;32m~\\AppData\\Local\\Temp/ipykernel_7200/515627989.py\u001b[0m in \u001b[0;36m<module>\u001b[1;34m\u001b[0m\n\u001b[1;32m----> 1\u001b[1;33m \u001b[0ma\u001b[0m\u001b[1;33m[\u001b[0m\u001b[1;36m2\u001b[0m\u001b[1;33m]\u001b[0m\u001b[1;33m=\u001b[0m\u001b[1;34m'z'\u001b[0m\u001b[1;33m\u001b[0m\u001b[1;33m\u001b[0m\u001b[0m\n\u001b[0m",
      "\u001b[1;31mTypeError\u001b[0m: 'str' object does not support item assignment"
     ]
    }
   ],
   "source": [
    "a[2]='z'"
   ]
  },
  {
   "cell_type": "code",
   "execution_count": 7,
   "id": "9b566dd7",
   "metadata": {},
   "outputs": [
    {
     "data": {
      "text/plain": [
       "'daga is scientist'"
      ]
     },
     "execution_count": 7,
     "metadata": {},
     "output_type": "execute_result"
    }
   ],
   "source": [
    "a = 'daga is scientist'       # here string individuals does not change at a's initial address\n",
    "a.replace('daga',\"me\")       # a new ram address is asigned for change values thus when called back original strings shows as it is yet not assigned new space in same.\n",
    "a"
   ]
  },
  {
   "cell_type": "code",
   "execution_count": 8,
   "id": "9c3cea80",
   "metadata": {},
   "outputs": [
    {
     "data": {
      "text/plain": [
       "2670918723664"
      ]
     },
     "execution_count": 8,
     "metadata": {},
     "output_type": "execute_result"
    }
   ],
   "source": [
    "id(a)"
   ]
  },
  {
   "cell_type": "code",
   "execution_count": 9,
   "id": "99937265",
   "metadata": {},
   "outputs": [
    {
     "data": {
      "text/plain": [
       "'me is scientist'"
      ]
     },
     "execution_count": 9,
     "metadata": {},
     "output_type": "execute_result"
    }
   ],
   "source": [
    "a=a.replace('daga',\"me\")     ## a new ram address is asigned for change values thus still follows imutability.\n",
    "a"
   ]
  },
  {
   "cell_type": "code",
   "execution_count": 10,
   "id": "58eeee57",
   "metadata": {},
   "outputs": [
    {
     "data": {
      "text/plain": [
       "2670919398832"
      ]
     },
     "execution_count": 10,
     "metadata": {},
     "output_type": "execute_result"
    }
   ],
   "source": [
    "id(a)"
   ]
  },
  {
   "cell_type": "code",
   "execution_count": 19,
   "id": "bf572a47",
   "metadata": {},
   "outputs": [
    {
     "data": {
      "text/plain": [
       "['aaa', 'ppp', 'nnn', 'hhhh']"
      ]
     },
     "execution_count": 19,
     "metadata": {},
     "output_type": "execute_result"
    }
   ],
   "source": [
    "b[2] = 'nnn'                                           # list are mutable , individual items can be changed\n",
    "b"
   ]
  },
  {
   "cell_type": "code",
   "execution_count": 20,
   "id": "589c6fd4",
   "metadata": {},
   "outputs": [
    {
     "data": {
      "text/plain": [
       "'bbbbbbbbbb'"
      ]
     },
     "execution_count": 20,
     "metadata": {},
     "output_type": "execute_result"
    }
   ],
   "source": [
    "a ='bbbbbbbbbb'                                       #entire string changed this is not counted under mutability\n",
    "a                                                       # it is variable assignment"
   ]
  },
  {
   "cell_type": "markdown",
   "id": "41ca3606",
   "metadata": {},
   "source": [
    "__other string functions__"
   ]
  },
  {
   "cell_type": "code",
   "execution_count": 24,
   "id": "2ee89746",
   "metadata": {},
   "outputs": [
    {
     "data": {
      "text/plain": [
       "1"
      ]
     },
     "execution_count": 24,
     "metadata": {},
     "output_type": "execute_result"
    }
   ],
   "source": [
    "a = 'daga is scientist' \n",
    "a.find('a')                        #Return the lowest index in S where substring sub is found,\n",
    "                                #such that sub is contained within S[start:end].  Optional\n",
    "                                #arguments start and end are interpreted as in slice notation.\n",
    "\n",
    "                            #Return -1 on failure.\n"
   ]
  },
  {
   "cell_type": "code",
   "execution_count": 29,
   "id": "9e061e77",
   "metadata": {},
   "outputs": [
    {
     "data": {
      "text/plain": [
       "['d', 'g', ' is scientist']"
      ]
     },
     "execution_count": 29,
     "metadata": {},
     "output_type": "execute_result"
    }
   ],
   "source": [
    "a = 'daga is scientist' \n",
    "b=a.split('a')\n",
    "a.split('a')                         # it splits at search point and changes rest to list"
   ]
  },
  {
   "cell_type": "code",
   "execution_count": 30,
   "id": "10868a5a",
   "metadata": {},
   "outputs": [
    {
     "data": {
      "text/plain": [
       "list"
      ]
     },
     "execution_count": 30,
     "metadata": {},
     "output_type": "execute_result"
    }
   ],
   "source": [
    "type(b)"
   ]
  },
  {
   "cell_type": "code",
   "execution_count": 11,
   "id": "77f7bb59",
   "metadata": {},
   "outputs": [
    {
     "data": {
      "text/plain": [
       "'deep   anshu'"
      ]
     },
     "execution_count": 11,
     "metadata": {},
     "output_type": "execute_result"
    }
   ],
   "source": [
    "b=\"   deep   anshu   \"             # strips off spaces both before and after string but not og between\n",
    "b.strip()"
   ]
  },
  {
   "cell_type": "code",
   "execution_count": 12,
   "id": "2da3fbcb",
   "metadata": {},
   "outputs": [
    {
     "data": {
      "text/plain": [
       "'deep   anshu   '"
      ]
     },
     "execution_count": 12,
     "metadata": {},
     "output_type": "execute_result"
    }
   ],
   "source": [
    "b.lstrip()                         ## strips off  all left spaces"
   ]
  },
  {
   "cell_type": "code",
   "execution_count": 14,
   "id": "26628ef3",
   "metadata": {},
   "outputs": [
    {
     "data": {
      "text/plain": [
       "'   deep   anshu'"
      ]
     },
     "execution_count": 14,
     "metadata": {},
     "output_type": "execute_result"
    }
   ],
   "source": [
    "b.rstrip()                          ## strips off  all right spaces"
   ]
  },
  {
   "cell_type": "code",
   "execution_count": 16,
   "id": "44fb03b8",
   "metadata": {
    "scrolled": true
   },
   "outputs": [
    {
     "data": {
      "text/plain": [
       "'deep    anshu'"
      ]
     },
     "execution_count": 16,
     "metadata": {},
     "output_type": "execute_result"
    }
   ],
   "source": [
    "b=\"deep\\tanshu\"\n",
    "b.expandtabs()"
   ]
  },
  {
   "cell_type": "markdown",
   "id": "27a2751b",
   "metadata": {},
   "source": [
    "__count all \"a\" , print all index value of a , replace all \"a\" by ineuron , print all words as list__"
   ]
  },
  {
   "cell_type": "code",
   "execution_count": 39,
   "id": "14bf0784",
   "metadata": {
    "scrolled": true
   },
   "outputs": [
    {
     "name": "stdout",
     "output_type": "stream",
     "text": [
      "WE ALL ARE PART OF FULL   SCIENCE\n",
      "4\n",
      "8\n",
      "13\n",
      "3\n"
     ]
    },
    {
     "data": {
      "text/plain": [
       "['we', 'ineuronll', 'ineuronre', 'pineuronrt', 'of', 'full', 'science']"
      ]
     },
     "execution_count": 39,
     "metadata": {},
     "output_type": "execute_result"
    }
   ],
   "source": [
    "b = \"we all are part of full   science\"\n",
    "print(b.upper())\n",
    "count = 0\n",
    "index = 0\n",
    "for i in (b) : \n",
    "    index = index +1                                                               \n",
    "    if i == \"a\":\n",
    "        count = count +1\n",
    "        print(index)\n",
    "print(count)        \n",
    "b = b.replace('a','ineuron')   \n",
    "b.split()"
   ]
  },
  {
   "cell_type": "markdown",
   "id": "e1d401af",
   "metadata": {},
   "source": [
    "__professional solution__"
   ]
  },
  {
   "cell_type": "code",
   "execution_count": 41,
   "id": "41bc34e0",
   "metadata": {},
   "outputs": [
    {
     "name": "stdout",
     "output_type": "stream",
     "text": [
      "we are all part of full stack\n",
      "4\n",
      "[3, 7, 12, 26]\n",
      "We Ineuronre Ineuronll pIneuronrt of Full StIneuronck\n",
      "['We', 'are', 'all', 'part', 'of', 'Full', 'Stack']\n"
     ]
    }
   ],
   "source": [
    "a = \"We are all part of Full Stack\"\n",
    "\n",
    "# 1. Normalizing entire string in lower case\n",
    "print(a.lower())\n",
    "# 2. Finding number of occurances of a in entire string\n",
    "print(len([i for i in range(len(a)) if a[i] == 'a']))\n",
    "# 3. Indexes where a is present \n",
    "print([i for i in range(len(a)) if a[i] == 'a'])  \n",
    "# 4 . replace all a's with ineuron\n",
    "print(a.replace('a','Ineuron'))\n",
    "#5. print all the words as a list\n",
    "print([i for i in a.split() ])"
   ]
  },
  {
   "cell_type": "code",
   "execution_count": 46,
   "id": "704650c3",
   "metadata": {
    "scrolled": true
   },
   "outputs": [
    {
     "name": "stdout",
     "output_type": "stream",
     "text": [
      "all indices : [12, 22]\n"
     ]
    }
   ],
   "source": [
    "k = \" i love indian stock market \"\n",
    "l = []\n",
    "for i in range(len(k)) :\n",
    "    if k[i] == \"a\" :\n",
    "        l.append(i)                                        #appends adds on to previous list\n",
    "print(\"all indices :\", l)    "
   ]
  },
  {
   "cell_type": "code",
   "execution_count": 70,
   "id": "fa4040e4",
   "metadata": {},
   "outputs": [
    {
     "data": {
      "text/plain": [
       "True"
      ]
     },
     "execution_count": 70,
     "metadata": {},
     "output_type": "execute_result"
    }
   ],
   "source": [
    "k = ' i love indian stock  m##1#@arket'                  # k.is fx returns true or false\n",
    "k.islower()\n"
   ]
  },
  {
   "cell_type": "code",
   "execution_count": 71,
   "id": "217c062c",
   "metadata": {},
   "outputs": [
    {
     "data": {
      "text/plain": [
       "False"
      ]
     },
     "execution_count": 71,
     "metadata": {},
     "output_type": "execute_result"
    }
   ],
   "source": [
    "k.isdigit()"
   ]
  },
  {
   "cell_type": "code",
   "execution_count": 73,
   "id": "c65265ab",
   "metadata": {},
   "outputs": [
    {
     "data": {
      "text/plain": [
       "True"
      ]
     },
     "execution_count": 73,
     "metadata": {},
     "output_type": "execute_result"
    }
   ],
   "source": [
    "k.endswith(\"t\")"
   ]
  },
  {
   "cell_type": "code",
   "execution_count": 79,
   "id": "48191e4c",
   "metadata": {},
   "outputs": [
    {
     "data": {
      "text/plain": [
       "False"
      ]
     },
     "execution_count": 79,
     "metadata": {},
     "output_type": "execute_result"
    }
   ],
   "source": [
    "k = 'kite    hhlkj'            #false since spaces are there\n",
    "k.isalpha()                    #spaces must be removed to check "
   ]
  },
  {
   "cell_type": "code",
   "execution_count": 82,
   "id": "0bc003b5",
   "metadata": {},
   "outputs": [
    {
     "data": {
      "text/plain": [
       "False"
      ]
     },
     "execution_count": 82,
     "metadata": {},
     "output_type": "execute_result"
    }
   ],
   "source": [
    "k = 'indian5 '                 #false since spaces are there\n",
    "k.isalnum()"
   ]
  },
  {
   "cell_type": "markdown",
   "id": "12f81a0b",
   "metadata": {},
   "source": [
    "__reverse strin__"
   ]
  },
  {
   "cell_type": "code",
   "execution_count": 83,
   "id": "5b66b96c",
   "metadata": {},
   "outputs": [
    {
     "data": {
      "text/plain": [
       "' tekram kcots naidni evol i '"
      ]
     },
     "execution_count": 83,
     "metadata": {},
     "output_type": "execute_result"
    }
   ],
   "source": [
    "k = \" i love indian stock market \"\n",
    "k[::-1]"
   ]
  },
  {
   "cell_type": "code",
   "execution_count": 93,
   "id": "8ab47a12",
   "metadata": {},
   "outputs": [
    {
     "name": "stdout",
     "output_type": "stream",
     "text": [
      "  tekram kcots naidni evol i"
     ]
    }
   ],
   "source": [
    "for i in range(len(k)) :\n",
    "    print(k[-i],end='')"
   ]
  },
  {
   "cell_type": "code",
   "execution_count": 95,
   "id": "90d954a4",
   "metadata": {},
   "outputs": [
    {
     "name": "stdout",
     "output_type": "stream",
     "text": [
      " tekram kcots naidni evol i "
     ]
    }
   ],
   "source": [
    "ch = len(k) -1 \n",
    "while ch >= 0:\n",
    "    print(k[ch],end=\"\")\n",
    "    ch = ch -1"
   ]
  },
  {
   "cell_type": "markdown",
   "id": "25c97a07",
   "metadata": {},
   "source": [
    "__find if alphabets are vowels__"
   ]
  },
  {
   "cell_type": "code",
   "execution_count": 4,
   "id": "5f29c5d8",
   "metadata": {},
   "outputs": [
    {
     "name": "stdout",
     "output_type": "stream",
     "text": [
      "i is a vowel\n",
      "n  not a vowel\n",
      "d  not a vowel\n",
      "i is a vowel\n",
      "a is a vowel\n",
      "n  not a vowel\n",
      "   not a vowel\n",
      "s  not a vowel\n",
      "t  not a vowel\n",
      "o is a vowel\n",
      "c  not a vowel\n",
      "k  not a vowel\n"
     ]
    }
   ],
   "source": [
    "a = \"indian stock\"\n",
    "vow = \"aeiouAEIOU\"\n",
    "for i in a :\n",
    "    if i in vow :            # if loop and format fx are awesome\n",
    "        print('{} is a vowel'.format(i))\n",
    "    else :\n",
    "        print('{}  not a vowel'.format(i))"
   ]
  },
  {
   "cell_type": "code",
   "execution_count": 6,
   "id": "01ee91e8",
   "metadata": {},
   "outputs": [
    {
     "data": {
      "text/plain": [
       "'deepanshu daga'"
      ]
     },
     "execution_count": 6,
     "metadata": {},
     "output_type": "execute_result"
    }
   ],
   "source": [
    "'{} daga'.format(\"deepanshu\")      #format fx fill the string bracket ay run time"
   ]
  },
  {
   "cell_type": "code",
   "execution_count": 7,
   "id": "7ecb4f5b",
   "metadata": {},
   "outputs": [
    {
     "data": {
      "text/plain": [
       "'my name is deepanshu'"
      ]
     },
     "execution_count": 7,
     "metadata": {},
     "output_type": "execute_result"
    }
   ],
   "source": [
    "'{} name {} deepanshu'.format('my','is')"
   ]
  },
  {
   "cell_type": "code",
   "execution_count": 9,
   "id": "25dba6ef",
   "metadata": {},
   "outputs": [
    {
     "name": "stdout",
     "output_type": "stream",
     "text": [
      " ii\n",
      " kk\n"
     ]
    },
    {
     "data": {
      "text/plain": [
       "'ii name kk deeoanshu daga '"
      ]
     },
     "execution_count": 9,
     "metadata": {},
     "output_type": "execute_result"
    }
   ],
   "source": [
    "a = input(\" \")\n",
    "b = input(\" \")                                   #can be used to take inputs\n",
    "\"{} name {} deepanshu {} \".format(a,b,\"daga\")\n"
   ]
  },
  {
   "cell_type": "markdown",
   "id": "3742dadd",
   "metadata": {},
   "source": [
    "__palendrome check__"
   ]
  },
  {
   "cell_type": "code",
   "execution_count": 22,
   "id": "c1ef8f9c",
   "metadata": {},
   "outputs": [
    {
     "name": "stdout",
     "output_type": "stream",
     "text": [
      "palindrome check  2002\n",
      "its palindrome\n"
     ]
    }
   ],
   "source": [
    "a = input('palindrome check  ')\n",
    "b=0\n",
    "c=len(a)\n",
    "for i in range(len(a)) :\n",
    "    if a[i] == a[len(a)-1-i] :\n",
    "        b=b+1\n",
    "if b == c :  \n",
    "    print('its palindrome')\n",
    "else :\n",
    "    print('not palindrome')"
   ]
  },
  {
   "cell_type": "code",
   "execution_count": 30,
   "id": "3caca3be",
   "metadata": {},
   "outputs": [
    {
     "name": "stdout",
     "output_type": "stream",
     "text": [
      "palindrome check  101\n",
      "plindrome\n"
     ]
    }
   ],
   "source": [
    "a =input('palindrome check  ')\n",
    "s1 = a[::-1]                              #this reverses the elements both in strings and list\n",
    "if s1 == a :\n",
    "    print('plindrome')\n",
    "else :\n",
    "    print('not same')\n"
   ]
  },
  {
   "cell_type": "markdown",
   "id": "9244c7e4",
   "metadata": {},
   "source": [
    "__list manupulation__\n"
   ]
  },
  {
   "cell_type": "code",
   "execution_count": 31,
   "id": "bf1408e4",
   "metadata": {},
   "outputs": [
    {
     "ename": "TypeError",
     "evalue": "can only concatenate str (not \"list\") to str",
     "output_type": "error",
     "traceback": [
      "\u001b[1;31m---------------------------------------------------------------------------\u001b[0m",
      "\u001b[1;31mTypeError\u001b[0m                                 Traceback (most recent call last)",
      "\u001b[1;32m~\\AppData\\Local\\Temp/ipykernel_4688/383599374.py\u001b[0m in \u001b[0;36m<module>\u001b[1;34m\u001b[0m\n\u001b[0;32m      1\u001b[0m \u001b[0ml1\u001b[0m \u001b[1;33m=\u001b[0m \u001b[1;33m[\u001b[0m\u001b[1;34m'daga '\u001b[0m\u001b[1;33m,\u001b[0m\u001b[1;36m1\u001b[0m\u001b[1;33m,\u001b[0m\u001b[1;36m5\u001b[0m\u001b[1;33m,\u001b[0m\u001b[1;36m8\u001b[0m\u001b[1;33m,\u001b[0m\u001b[1;34m\"jajaj\"\u001b[0m\u001b[1;33m]\u001b[0m\u001b[1;33m\u001b[0m\u001b[1;33m\u001b[0m\u001b[0m\n\u001b[0;32m      2\u001b[0m \u001b[0ms\u001b[0m \u001b[1;33m=\u001b[0m \u001b[1;34m\"sudh\"\u001b[0m\u001b[1;33m\u001b[0m\u001b[1;33m\u001b[0m\u001b[0m\n\u001b[1;32m----> 3\u001b[1;33m \u001b[0ms\u001b[0m\u001b[1;33m+\u001b[0m\u001b[0ml1\u001b[0m\u001b[1;33m\u001b[0m\u001b[1;33m\u001b[0m\u001b[0m\n\u001b[0m",
      "\u001b[1;31mTypeError\u001b[0m: can only concatenate str (not \"list\") to str"
     ]
    }
   ],
   "source": [
    "l1 = ['daga ',1,\"jajaj\"]           #will not add diff data types\n",
    "s = \"sudh\"\n",
    "s+l1"
   ]
  },
  {
   "cell_type": "code",
   "execution_count": 43,
   "id": "79729c5a",
   "metadata": {},
   "outputs": [
    {
     "data": {
      "text/plain": [
       "['daga ', 1, [45, 23], 'jajaj', 's', 'u', 'd', 'h']"
      ]
     },
     "execution_count": 43,
     "metadata": {},
     "output_type": "execute_result"
    }
   ],
   "source": [
    "l1 = ['daga ',1,[45,23],\"jajaj\"]           #will not add diff data types\n",
    "s = \"sudh\"\n",
    "s1 = list(s)                         #by list(string) list take string as individual charcters\n",
    "l1+s1                                  "
   ]
  },
  {
   "cell_type": "code",
   "execution_count": 44,
   "id": "69a9ac42",
   "metadata": {},
   "outputs": [
    {
     "data": {
      "text/plain": [
       "['daga ', 1, [45, 23], 'jajaj', 'sudh']"
      ]
     },
     "execution_count": 44,
     "metadata": {},
     "output_type": "execute_result"
    }
   ],
   "source": [
    "S1 = [s]                            #to use string without breaking     :  a = [string]\n",
    "l1+S1"
   ]
  },
  {
   "cell_type": "code",
   "execution_count": 2,
   "id": "80a66bc4",
   "metadata": {},
   "outputs": [
    {
     "data": {
      "text/plain": [
       "['daga ', 1, [45, 23], 'jajaj', 'hcl']"
      ]
     },
     "execution_count": 2,
     "metadata": {},
     "output_type": "execute_result"
    }
   ],
   "source": [
    "l1 = ['daga ',1,[45,23],\"jajaj\"]  \n",
    "l1.append('hcl')                        #another way to add append adds only in the end\n",
    "l1"
   ]
  },
  {
   "cell_type": "code",
   "execution_count": 46,
   "id": "4c8eec50",
   "metadata": {},
   "outputs": [
    {
     "data": {
      "text/plain": [
       "4"
      ]
     },
     "execution_count": 46,
     "metadata": {},
     "output_type": "execute_result"
    }
   ],
   "source": [
    "len(l1)"
   ]
  },
  {
   "cell_type": "code",
   "execution_count": 50,
   "id": "66898d9f",
   "metadata": {},
   "outputs": [
    {
     "data": {
      "text/plain": [
       "False"
      ]
     },
     "execution_count": 50,
     "metadata": {},
     "output_type": "execute_result"
    }
   ],
   "source": [
    "\"daga\" in l1      # although daga is in l1 still it shows false because i didnt gave space after \"daga ''   exact required."
   ]
  },
  {
   "cell_type": "code",
   "execution_count": null,
   "id": "05dc0e7e",
   "metadata": {},
   "outputs": [],
   "source": []
  }
 ],
 "metadata": {
  "kernelspec": {
   "display_name": "Python 3 (ipykernel)",
   "language": "python",
   "name": "python3"
  },
  "language_info": {
   "codemirror_mode": {
    "name": "ipython",
    "version": 3
   },
   "file_extension": ".py",
   "mimetype": "text/x-python",
   "name": "python",
   "nbconvert_exporter": "python",
   "pygments_lexer": "ipython3",
   "version": "3.9.7"
  }
 },
 "nbformat": 4,
 "nbformat_minor": 5
}
