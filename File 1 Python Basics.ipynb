{
 "cells": [
  {
   "cell_type": "code",
   "execution_count": 18,
   "id": "0db39a74",
   "metadata": {},
   "outputs": [
    {
     "name": "stdout",
     "output_type": "stream",
     "text": [
      "hellow world\n",
      "16\n",
      "world's my playground\n",
      "8\n",
      "-1\n",
      "future billioner\n",
      "future billioner\n",
      "FUTURE BILLIONER\n",
      "T\n",
      "2\n",
      "1\n",
      "1\n",
      "(0, 1, 2, 3)\n",
      "(0, 1, 2)\n",
      "(0, 1, 2, 3)\n",
      "future billioner\n",
      "world's only my playground\n"
     ]
    },
    {
     "data": {
      "text/plain": [
       "int"
      ]
     },
     "execution_count": 18,
     "metadata": {},
     "output_type": "execute_result"
    }
   ],
   "source": [
    "print('hellow world')\n",
    "message = 'future billioner'\n",
    "print(len(message))\n",
    "today = \"world's my playground\"       #with ' inside use \"\" for string\n",
    "print(today)\n",
    "print(today.find(\"my\"))               #it gives index value where my starts if not found -1 \n",
    "print(today.find('goku'))\n",
    "print(message)\n",
    "print(message.lower())\n",
    "print(message.upper())\n",
    "print(message[2].upper())              #message's index 2 in upper\n",
    "print(message.count('l'))              # counts l in string\n",
    "print(message.count('fut'))            # counts fut in string\n",
    "my_variable = (0, 1, 2, 3)\n",
    "print(my_variable[1])                  #[] has index in it\n",
    "print(my_variable[0:])                 #  0:  from 0 to end\n",
    "print(my_variable[:3])                 #   :3 from start to 3\n",
    "print(my_variable[:4])\n",
    "message.replace('future','current')    # it just replaces but if printed old comes \n",
    "print(message)                         #we just replaced we never assigned it new variable\n",
    "today=today.replace('my','only my')    # now variable is replaced with new so changes reflect\n",
    "print(today)\n",
    "a=100\n",
    "type(a)"
   ]
  },
  {
   "cell_type": "code",
   "execution_count": 19,
   "id": "5f2fc2bd",
   "metadata": {},
   "outputs": [
    {
     "data": {
      "text/plain": [
       "'Paisa hi paisa hoga'"
      ]
     },
     "execution_count": 19,
     "metadata": {},
     "output_type": "execute_result"
    }
   ],
   "source": [
    "a='paisa hi paisa hoga'\n",
    "type(a)\n",
    "a.capitalize()                                             #tab+shift gives all functions"
   ]
  },
  {
   "cell_type": "code",
   "execution_count": 20,
   "id": "bffce13a",
   "metadata": {
    "scrolled": true
   },
   "outputs": [
    {
     "data": {
      "text/plain": [
       "complex"
      ]
     },
     "execution_count": 20,
     "metadata": {},
     "output_type": "execute_result"
    }
   ],
   "source": [
    "b=5+2j\n",
    "type(b)"
   ]
  },
  {
   "cell_type": "code",
   "execution_count": 21,
   "id": "02d2867f",
   "metadata": {},
   "outputs": [
    {
     "ename": "NameError",
     "evalue": "name 'true' is not defined",
     "output_type": "error",
     "traceback": [
      "\u001b[1;31m---------------------------------------------------------------------------\u001b[0m",
      "\u001b[1;31mNameError\u001b[0m                                 Traceback (most recent call last)",
      "\u001b[1;32m~\\AppData\\Local\\Temp/ipykernel_8728/827953431.py\u001b[0m in \u001b[0;36m<module>\u001b[1;34m\u001b[0m\n\u001b[1;32m----> 1\u001b[1;33m \u001b[0mt\u001b[0m \u001b[1;33m=\u001b[0m \u001b[0mtrue\u001b[0m\u001b[1;33m\u001b[0m\u001b[1;33m\u001b[0m\u001b[0m\n\u001b[0m\u001b[0;32m      2\u001b[0m \u001b[0mtype\u001b[0m\u001b[1;33m(\u001b[0m\u001b[0mt\u001b[0m\u001b[1;33m)\u001b[0m                                                \u001b[1;31m# error if t is not in cap\u001b[0m\u001b[1;33m\u001b[0m\u001b[1;33m\u001b[0m\u001b[0m\n",
      "\u001b[1;31mNameError\u001b[0m: name 'true' is not defined"
     ]
    }
   ],
   "source": [
    "t = true\n",
    "type(t)                                                # error if t is not in cap "
   ]
  },
  {
   "cell_type": "code",
   "execution_count": 22,
   "id": "07a0c7ce",
   "metadata": {},
   "outputs": [
    {
     "data": {
      "text/plain": [
       "bool"
      ]
     },
     "execution_count": 22,
     "metadata": {},
     "output_type": "execute_result"
    }
   ],
   "source": [
    "t=True\n",
    "type(t)                                                #FOR BOOLEAN T IN CAP"
   ]
  },
  {
   "cell_type": "code",
   "execution_count": 23,
   "id": "d1ca9348",
   "metadata": {},
   "outputs": [
    {
     "name": "stdout",
     "output_type": "stream",
     "text": [
      "10 kumar True\n"
     ]
    }
   ],
   "source": [
    "a,b,c,d = 10,\"kumar\",6.55, True                         #varibles\n",
    "print (a,b,d)"
   ]
  },
  {
   "cell_type": "code",
   "execution_count": 24,
   "id": "77adff01",
   "metadata": {},
   "outputs": [
    {
     "name": "stdout",
     "output_type": "stream",
     "text": [
      "(10, 'kmar', 10.5555, (5+6j), True)\n"
     ]
    }
   ],
   "source": [
    "a=10,\"kmar\",10.5555, 5+6j,True                          #this is list  (single variable multiple values)              \n",
    "print(a)"
   ]
  },
  {
   "cell_type": "code",
   "execution_count": 25,
   "id": "edfc4098",
   "metadata": {},
   "outputs": [
    {
     "data": {
      "text/plain": [
       "(5-2j)"
      ]
     },
     "execution_count": 25,
     "metadata": {},
     "output_type": "execute_result"
    }
   ],
   "source": [
    "x=5+2j\n",
    "x.conjugate()                                          #Functions always works with closed brackets"
   ]
  },
  {
   "cell_type": "code",
   "execution_count": 26,
   "id": "92b97c73",
   "metadata": {},
   "outputs": [
    {
     "data": {
      "text/plain": [
       "2"
      ]
     },
     "execution_count": 26,
     "metadata": {},
     "output_type": "execute_result"
    }
   ],
   "source": [
    "True+True                                               #True gives 1 to the system"
   ]
  },
  {
   "cell_type": "code",
   "execution_count": 28,
   "id": "eb2ecef1",
   "metadata": {},
   "outputs": [
    {
     "name": "stdout",
     "output_type": "stream",
     "text": [
      "1212522\n"
     ]
    },
    {
     "data": {
      "text/plain": [
       "'1212522'"
      ]
     },
     "execution_count": 28,
     "metadata": {},
     "output_type": "execute_result"
    }
   ],
   "source": [
    "input()                                               #when executed will ask for a user input \n",
    "                                                      #but it reads everything as string by default\n",
    "                       "
   ]
  },
  {
   "cell_type": "code",
   "execution_count": 29,
   "id": "c608907b",
   "metadata": {
    "scrolled": true
   },
   "outputs": [
    {
     "name": "stdout",
     "output_type": "stream",
     "text": [
      "454565436434\n"
     ]
    },
    {
     "data": {
      "text/plain": [
       "'454565436434'"
      ]
     },
     "execution_count": 29,
     "metadata": {},
     "output_type": "execute_result"
    }
   ],
   "source": [
    "input()                                               #it considers it as string"
   ]
  },
  {
   "cell_type": "code",
   "execution_count": 35,
   "id": "bd73f7ba",
   "metadata": {
    "scrolled": true
   },
   "outputs": [
    {
     "name": "stdout",
     "output_type": "stream",
     "text": [
      " enter a integer 12451522\n"
     ]
    }
   ],
   "source": [
    "a=input( \" enter a integer \")"
   ]
  },
  {
   "cell_type": "code",
   "execution_count": 36,
   "id": "130c9761",
   "metadata": {},
   "outputs": [
    {
     "data": {
      "text/plain": [
       "'12451522'"
      ]
     },
     "execution_count": 36,
     "metadata": {},
     "output_type": "execute_result"
    }
   ],
   "source": [
    "a    \n",
    "                                                        #returns string via default"
   ]
  },
  {
   "cell_type": "code",
   "execution_count": 15,
   "id": "68ae8564",
   "metadata": {},
   "outputs": [
    {
     "data": {
      "text/plain": [
       "10"
      ]
     },
     "execution_count": 15,
     "metadata": {},
     "output_type": "execute_result"
    }
   ],
   "source": [
    "int(a)                                                 #returns numeric if datatype changes called TYPECAST"
   ]
  },
  {
   "cell_type": "code",
   "execution_count": 12,
   "id": "8f666c22",
   "metadata": {},
   "outputs": [
    {
     "data": {
      "text/plain": [
       "2336721037904"
      ]
     },
     "execution_count": 12,
     "metadata": {},
     "output_type": "execute_result"
    }
   ],
   "source": [
    "id(a)                                                  #id returns the memory allocation adress at ram of the a variable"
   ]
  },
  {
   "cell_type": "code",
   "execution_count": 11,
   "id": "4dbef281",
   "metadata": {},
   "outputs": [
    {
     "data": {
      "text/plain": [
       "2336721037904"
      ]
     },
     "execution_count": 11,
     "metadata": {},
     "output_type": "execute_result"
    }
   ],
   "source": [
    "a=10\n",
    "id(a)"
   ]
  },
  {
   "cell_type": "code",
   "execution_count": 34,
   "id": "3219991c",
   "metadata": {},
   "outputs": [
    {
     "data": {
      "text/plain": [
       "'sudhsudhsudh'"
      ]
     },
     "execution_count": 34,
     "metadata": {},
     "output_type": "execute_result"
    }
   ],
   "source": [
    "\"sudh\"*3                                               #use of string and multiplication"
   ]
  },
  {
   "cell_type": "code",
   "execution_count": 32,
   "id": "2d259aab",
   "metadata": {},
   "outputs": [
    {
     "ename": "TypeError",
     "evalue": "unsupported operand type(s) for -: 'str' and 'str'",
     "output_type": "error",
     "traceback": [
      "\u001b[1;31m---------------------------------------------------------------------------\u001b[0m",
      "\u001b[1;31mTypeError\u001b[0m                                 Traceback (most recent call last)",
      "\u001b[1;32m~\\AppData\\Local\\Temp/ipykernel_8728/2104833186.py\u001b[0m in \u001b[0;36m<module>\u001b[1;34m\u001b[0m\n\u001b[1;32m----> 1\u001b[1;33m \u001b[1;34m\"sudh\"\u001b[0m \u001b[1;33m-\u001b[0m \u001b[1;34m\"sudh\"\u001b[0m\u001b[1;33m\u001b[0m\u001b[1;33m\u001b[0m\u001b[0m\n\u001b[0m",
      "\u001b[1;31mTypeError\u001b[0m: unsupported operand type(s) for -: 'str' and 'str'"
     ]
    }
   ],
   "source": [
    "\"sudh\" - \"sudh\"                                        #only multiplication works "
   ]
  },
  {
   "cell_type": "code",
   "execution_count": 47,
   "id": "c04a5e01",
   "metadata": {},
   "outputs": [
    {
     "name": "stdout",
     "output_type": "stream",
     "text": [
      "enter 1st integer10\n",
      "enter 2st integer1.22\n",
      "enter 3st integer2.11\n"
     ]
    },
    {
     "data": {
      "text/plain": [
       "'(10.317535545023699+6j)deepanshu'"
      ]
     },
     "execution_count": 47,
     "metadata": {},
     "output_type": "execute_result"
    }
   ],
   "source": [
    "# or a,b,c =float(input( \"enter 1st integer\")),float(input( \"enter 2st integer\")),float(input( \"enter 3st integer\")) \n",
    "a,b,c = input( \"enter 1st integer\"),input( \"enter 2st integer\"),input( \"enter 3st integer\") \n",
    "o = (float(a) + float(b)) /float(c) \n",
    "z = o + 5 + 6j\n",
    "str(z) + \"deepanshu\"         "
   ]
  },
  {
   "cell_type": "code",
   "execution_count": 73,
   "id": "912631ce",
   "metadata": {
    "scrolled": true
   },
   "outputs": [
    {
     "name": "stdout",
     "output_type": "stream",
     "text": [
      "enter a no lesser than 3534\n",
      "ok\n"
     ]
    }
   ],
   "source": [
    "y = int(input(\"enter a no lesser than 35\"))\n",
    "if y < 35 :                                             #take care of palcement of if else indentation  error \n",
    "        print(\"ok\")                                     \n",
    "elif y < 100 :\n",
    "        print( \"input is less than 100\")\n",
    "else :                                      \n",
    "        print(\"invalid data\")"
   ]
  },
  {
   "cell_type": "code",
   "execution_count": null,
   "id": "2e6ff938",
   "metadata": {},
   "outputs": [],
   "source": [
    "y = int(input(\"enter a no lesser than 35\"))                 #if is false still ok why \n",
    "if y < 35 : pass                                            #now print statement is not the part of if , if ends with pass\n",
    "print(\"ok\")                                     #thus print dont require tab here no indentation error since its outside loop"
   ]
  },
  {
   "cell_type": "code",
   "execution_count": 84,
   "id": "230fee3c",
   "metadata": {},
   "outputs": [
    {
     "name": "stdout",
     "output_type": "stream",
     "text": [
      "input your salary1001\n",
      "black money required\n"
     ]
    }
   ],
   "source": [
    "salary = int(input( \"input your salary\"))               # if input is 4 should be in last category but will give wrong output  \n",
    "if salary < 1000:                                       # as buy car because if loop enters 1st if true doesnot enter rest\n",
    "    print('buy car'                                     #if else ends with colon  :\n",
    "elif salary < 500 :                             \n",
    "    print( 'buy bike')                                 #if loop after finding first true statment terminate itself.\n",
    "elif salary < 300 :                                    # correct code by giving it < operator\n",
    "    print( 'buy scooty')\n",
    "else : \n",
    "    print('black money required')"
   ]
  },
  {
   "cell_type": "code",
   "execution_count": 106,
   "id": "ffe146c8",
   "metadata": {},
   "outputs": [
    {
     "name": "stdout",
     "output_type": "stream",
     "text": [
      "input your salary5001\n",
      "buy car\n",
      "buy jaguar\n",
      "true code\n"
     ]
    }
   ],
   "source": [
    "salary = int(input( \"input your salary\"))                \n",
    "if salary > 1000 :                                       \n",
    "    print('buy car') \n",
    "    if salary > 5000:\n",
    "        print( \"buy jaguar\")\n",
    "        if True :\n",
    "            print('true code')\n",
    "    elif salary > 4000 :\n",
    "          print( ' buy maruti')\n",
    "    else:\n",
    "          print('buy nano')\n",
    "elif salary > 500 :                             \n",
    "    print( 'buy bike')                                \n",
    "elif salary > 300 :                                   \n",
    "    print( 'buy scooty')\n",
    "else : \n",
    "    print('black money required')"
   ]
  },
  {
   "cell_type": "code",
   "execution_count": null,
   "id": "7952e383",
   "metadata": {},
   "outputs": [],
   "source": []
  },
  {
   "cell_type": "code",
   "execution_count": null,
   "id": "6c565650",
   "metadata": {},
   "outputs": [],
   "source": []
  }
 ],
 "metadata": {
  "kernelspec": {
   "display_name": "Python 3 (ipykernel)",
   "language": "python",
   "name": "python3"
  },
  "language_info": {
   "codemirror_mode": {
    "name": "ipython",
    "version": 3
   },
   "file_extension": ".py",
   "mimetype": "text/x-python",
   "name": "python",
   "nbconvert_exporter": "python",
   "pygments_lexer": "ipython3",
   "version": "3.9.7"
  }
 },
 "nbformat": 4,
 "nbformat_minor": 5
}
